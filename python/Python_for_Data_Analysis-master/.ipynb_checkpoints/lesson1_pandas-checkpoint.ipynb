{
 "cells": [
  {
   "cell_type": "markdown",
   "metadata": {
    "colab_type": "text",
    "id": "bdjDRDN1rgbS"
   },
   "source": [
    "# Pandas\n",
    "\n",
    "Pandas is an numerical open source python library that is built on top of NumPy. Why learning Pandas is important:\n",
    "\n",
    "\n",
    "*   Pandas allows you do fast analysis as well as data cleaning and preparation\n",
    "*   Pandas can work well with data from a wide variety of sources such as; Excel sheet, csv file, sql file or even a webpage\n",
    "\n"
   ]
  },
  {
   "cell_type": "code",
   "execution_count": 1,
   "metadata": {
    "colab": {},
    "colab_type": "code",
    "id": "wZUWH2TuQQlq"
   },
   "outputs": [],
   "source": [
    "#import numpy and pandas\n",
    "import numpy as np\n",
    "import pandas as pd"
   ]
  },
  {
   "cell_type": "markdown",
   "metadata": {
    "colab_type": "text",
    "id": "iu3qpjTGQ6hW"
   },
   "source": [
    "**Pandas Series**\n",
    "\n",
    "Pandas series are one-dimensional labeled array that are capable of holding of data of any type"
   ]
  },
  {
   "cell_type": "code",
   "execution_count": 2,
   "metadata": {
    "colab": {
     "base_uri": "https://localhost:8080/",
     "height": 119
    },
    "colab_type": "code",
    "executionInfo": {
     "elapsed": 400,
     "status": "ok",
     "timestamp": 1565126659246,
     "user": {
      "displayName": "Sumana R Krishnan",
      "photoUrl": "https://lh3.googleusercontent.com/a-/AAuE7mBpUNjFfbwiWFQAJbCCIKFapg1dDnxsI_ODxut1DYM=s64",
      "userId": "14344299311802225718"
     },
     "user_tz": 420
    },
    "id": "OHDBqSBzQfNW",
    "outputId": "67b25ca9-4026-4309-87f8-affaab78e764"
   },
   "outputs": [
    {
     "name": "stdout",
     "output_type": "stream",
     "text": [
      "0    a\n",
      "1    b\n",
      "2    c\n",
      "3    d\n",
      "4    e\n",
      "dtype: object\n"
     ]
    }
   ],
   "source": [
    "#creating panda series from list\n",
    "ls = ['a', 'b', 'c', 'd', 'e']\n",
    "ser_1 = pd.Series(ls)\n",
    "\n",
    "print (ser_1)"
   ]
  },
  {
   "cell_type": "code",
   "execution_count": 3,
   "metadata": {
    "colab": {
     "base_uri": "https://localhost:8080/",
     "height": 119
    },
    "colab_type": "code",
    "executionInfo": {
     "elapsed": 376,
     "status": "ok",
     "timestamp": 1565126663255,
     "user": {
      "displayName": "Sumana R Krishnan",
      "photoUrl": "https://lh3.googleusercontent.com/a-/AAuE7mBpUNjFfbwiWFQAJbCCIKFapg1dDnxsI_ODxut1DYM=s64",
      "userId": "14344299311802225718"
     },
     "user_tz": 420
    },
    "id": "Z6GM1wgqtTFp",
    "outputId": "120f3aad-950a-40ac-c1f6-e80347c4f2fa"
   },
   "outputs": [
    {
     "name": "stdout",
     "output_type": "stream",
     "text": [
      "0    10\n",
      "1    20\n",
      "2    30\n",
      "3    40\n",
      "4    50\n",
      "dtype: int64\n"
     ]
    }
   ],
   "source": [
    "#creating panda series from array\n",
    "arr = np.array([10, 20, 30, 40, 50])\n",
    "ser_2 = pd.Series(arr)\n",
    "\n",
    "print (ser_2)"
   ]
  },
  {
   "cell_type": "code",
   "execution_count": 4,
   "metadata": {
    "colab": {
     "base_uri": "https://localhost:8080/",
     "height": 119
    },
    "colab_type": "code",
    "executionInfo": {
     "elapsed": 418,
     "status": "ok",
     "timestamp": 1565126678376,
     "user": {
      "displayName": "Sumana R Krishnan",
      "photoUrl": "https://lh3.googleusercontent.com/a-/AAuE7mBpUNjFfbwiWFQAJbCCIKFapg1dDnxsI_ODxut1DYM=s64",
      "userId": "14344299311802225718"
     },
     "user_tz": 420
    },
    "id": "3OG_lL8Pt-zS",
    "outputId": "b421bd03-5a2c-42ba-b340-96bef950b7d2"
   },
   "outputs": [
    {
     "name": "stdout",
     "output_type": "stream",
     "text": [
      "sarah    10\n",
      "bob      20\n",
      "alex     30\n",
      "den      40\n",
      "nancy    50\n",
      "dtype: int64\n"
     ]
    }
   ],
   "source": [
    "#create series with specific indexing\n",
    "ser_3 = pd.Series(arr, index = ['sarah', 'bob', 'alex', 'den', 'nancy'])\n",
    "\n",
    "print (ser_3)"
   ]
  },
  {
   "cell_type": "code",
   "execution_count": 0,
   "metadata": {
    "colab": {
     "base_uri": "https://localhost:8080/",
     "height": 238
    },
    "colab_type": "code",
    "executionInfo": {
     "elapsed": 281,
     "status": "ok",
     "timestamp": 1562433399012,
     "user": {
      "displayName": "Logan Sargsyan",
      "photoUrl": "https://lh6.googleusercontent.com/-V3eYAGniEto/AAAAAAAAAAI/AAAAAAAAAAo/nyxhhsTEK-4/s64/photo.jpg",
      "userId": "10474557382787208514"
     },
     "user_tz": 420
    },
    "id": "l4lIyzzQwIKL",
    "outputId": "7a244b17-23ab-48d9-f46b-ae67d2b494cf"
   },
   "outputs": [
    {
     "name": "stdout",
     "output_type": "stream",
     "text": [
      "40 \n",
      "\n",
      "\n",
      "sarah    10\n",
      "alex     30\n",
      "nancy    50\n",
      "dtype: int64 \n",
      "\n",
      "\n",
      "sarah    10\n",
      "bob      20\n",
      "alex     30\n",
      "dtype: int64\n"
     ]
    }
   ],
   "source": [
    "#accessing an element using the index \n",
    "print (ser_3[3], '\\n\\n')\n",
    "print (ser_3[[0, 2, 4]], '\\n\\n')\n",
    "print (ser_3[:3])"
   ]
  },
  {
   "cell_type": "code",
   "execution_count": 0,
   "metadata": {
    "colab": {
     "base_uri": "https://localhost:8080/",
     "height": 136
    },
    "colab_type": "code",
    "executionInfo": {
     "elapsed": 308,
     "status": "ok",
     "timestamp": 1562433402146,
     "user": {
      "displayName": "Logan Sargsyan",
      "photoUrl": "https://lh6.googleusercontent.com/-V3eYAGniEto/AAAAAAAAAAI/AAAAAAAAAAo/nyxhhsTEK-4/s64/photo.jpg",
      "userId": "10474557382787208514"
     },
     "user_tz": 420
    },
    "id": "hkC-5IyLwg4h",
    "outputId": "d0eac52f-5f62-4d24-f2bd-c7abc891a0e7"
   },
   "outputs": [
    {
     "name": "stdout",
     "output_type": "stream",
     "text": [
      "40 \n",
      "\n",
      "\n",
      "den      40\n",
      "alex     30\n",
      "sarah    10\n",
      "dtype: int64\n"
     ]
    }
   ],
   "source": [
    "#accessing element using an index label\n",
    "print (ser_3['den'], '\\n\\n')\n",
    "print (ser_3[['den', 'alex', 'sarah']])"
   ]
  },
  {
   "cell_type": "markdown",
   "metadata": {
    "colab_type": "text",
    "id": "HMJ1Ge4AyLcj"
   },
   "source": [
    "**Panadas DataFrame**\n",
    "\n",
    "Pandas DataFrame is a two-dimensional labeled data structure."
   ]
  },
  {
   "cell_type": "code",
   "execution_count": 0,
   "metadata": {
    "colab": {
     "base_uri": "https://localhost:8080/",
     "height": 119
    },
    "colab_type": "code",
    "executionInfo": {
     "elapsed": 289,
     "status": "ok",
     "timestamp": 1562433404809,
     "user": {
      "displayName": "Logan Sargsyan",
      "photoUrl": "https://lh6.googleusercontent.com/-V3eYAGniEto/AAAAAAAAAAI/AAAAAAAAAAo/nyxhhsTEK-4/s64/photo.jpg",
      "userId": "10474557382787208514"
     },
     "user_tz": 420
    },
    "id": "EPdLGmo6w1dO",
    "outputId": "4b9f8131-65d9-4070-990a-8dc2ac0a8a61"
   },
   "outputs": [
    {
     "name": "stdout",
     "output_type": "stream",
     "text": [
      "       first  second\n",
      "alex    30.0     NaN\n",
      "bob     20.0    22.0\n",
      "den     40.0    44.0\n",
      "nancy    NaN    55.0\n",
      "sarah   10.0    11.0\n"
     ]
    }
   ],
   "source": [
    "#create DataFrame from dictionary of pandas series\n",
    "d = {'first' : pd.Series([10, 20, 30, 40], index = ['sarah', 'bob', 'alex', 'den']),\n",
    "     'second' : pd.Series([11, 22, 44, 55], index = ['sarah', 'bob', 'den', 'nancy'])}\n",
    "\n",
    "df = pd.DataFrame(d)\n",
    "\n",
    "print (df)"
   ]
  },
  {
   "cell_type": "code",
   "execution_count": 0,
   "metadata": {
    "colab": {
     "base_uri": "https://localhost:8080/",
     "height": 51
    },
    "colab_type": "code",
    "executionInfo": {
     "elapsed": 299,
     "status": "ok",
     "timestamp": 1562433406090,
     "user": {
      "displayName": "Logan Sargsyan",
      "photoUrl": "https://lh6.googleusercontent.com/-V3eYAGniEto/AAAAAAAAAAI/AAAAAAAAAAo/nyxhhsTEK-4/s64/photo.jpg",
      "userId": "10474557382787208514"
     },
     "user_tz": 420
    },
    "id": "VvUCHcAxOYHr",
    "outputId": "1b22afc7-5f8b-4ad3-d3da-1d70ee87fe38"
   },
   "outputs": [
    {
     "name": "stdout",
     "output_type": "stream",
     "text": [
      "Rows:     Index(['alex', 'bob', 'den', 'nancy', 'sarah'], dtype='object')\n",
      "Columns:  Index(['first', 'second'], dtype='object')\n"
     ]
    }
   ],
   "source": [
    "#get the labels of index and columns\n",
    "\n",
    "print ('Rows:    ', df.index)\n",
    "print ('Columns: ', df.columns)"
   ]
  },
  {
   "cell_type": "code",
   "execution_count": 0,
   "metadata": {
    "colab": {
     "base_uri": "https://localhost:8080/",
     "height": 187
    },
    "colab_type": "code",
    "executionInfo": {
     "elapsed": 302,
     "status": "ok",
     "timestamp": 1562433407382,
     "user": {
      "displayName": "Logan Sargsyan",
      "photoUrl": "https://lh6.googleusercontent.com/-V3eYAGniEto/AAAAAAAAAAI/AAAAAAAAAAo/nyxhhsTEK-4/s64/photo.jpg",
      "userId": "10474557382787208514"
     },
     "user_tz": 420
    },
    "id": "zSs24fdwQCSn",
    "outputId": "615de567-43a3-43c5-973e-83e426c47708"
   },
   "outputs": [
    {
     "name": "stdout",
     "output_type": "stream",
     "text": [
      "       first  second\n",
      "sarah     10    11.0\n",
      "alex      30     NaN\n",
      "bob       20    22.0 \n",
      "\n",
      "       second\n",
      "sarah      11\n",
      "bob        22\n",
      "den        44\n",
      "nancy      55\n"
     ]
    }
   ],
   "source": [
    "#we can also select index and columns labels when createing df\n",
    "df = pd.DataFrame(d, index = ['sarah', 'alex', 'bob'])\n",
    "print (df, '\\n')\n",
    "\n",
    "df = pd.DataFrame(d, columns = ['second'])\n",
    "print (df)"
   ]
  },
  {
   "cell_type": "code",
   "execution_count": 0,
   "metadata": {
    "colab": {
     "base_uri": "https://localhost:8080/",
     "height": 142
    },
    "colab_type": "code",
    "executionInfo": {
     "elapsed": 328,
     "status": "ok",
     "timestamp": 1562433409153,
     "user": {
      "displayName": "Logan Sargsyan",
      "photoUrl": "https://lh6.googleusercontent.com/-V3eYAGniEto/AAAAAAAAAAI/AAAAAAAAAAo/nyxhhsTEK-4/s64/photo.jpg",
      "userId": "10474557382787208514"
     },
     "user_tz": 420
    },
    "id": "C2Zr2b4RXsJN",
    "outputId": "dd917533-e371-4424-8ad1-49a94fa2a2ff"
   },
   "outputs": [
    {
     "data": {
      "text/html": [
       "<div>\n",
       "<style scoped>\n",
       "    .dataframe tbody tr th:only-of-type {\n",
       "        vertical-align: middle;\n",
       "    }\n",
       "\n",
       "    .dataframe tbody tr th {\n",
       "        vertical-align: top;\n",
       "    }\n",
       "\n",
       "    .dataframe thead th {\n",
       "        text-align: right;\n",
       "    }\n",
       "</style>\n",
       "<table border=\"1\" class=\"dataframe\">\n",
       "  <thead>\n",
       "    <tr style=\"text-align: right;\">\n",
       "      <th></th>\n",
       "      <th>alex</th>\n",
       "      <th>bob</th>\n",
       "      <th>chris</th>\n",
       "      <th>claire</th>\n",
       "      <th>den</th>\n",
       "      <th>sarah</th>\n",
       "    </tr>\n",
       "  </thead>\n",
       "  <tbody>\n",
       "    <tr>\n",
       "      <th>0</th>\n",
       "      <td>30.0</td>\n",
       "      <td>NaN</td>\n",
       "      <td>NaN</td>\n",
       "      <td>NaN</td>\n",
       "      <td>NaN</td>\n",
       "      <td>10.0</td>\n",
       "    </tr>\n",
       "    <tr>\n",
       "      <th>1</th>\n",
       "      <td>NaN</td>\n",
       "      <td>40.0</td>\n",
       "      <td>NaN</td>\n",
       "      <td>30.0</td>\n",
       "      <td>50.0</td>\n",
       "      <td>NaN</td>\n",
       "    </tr>\n",
       "    <tr>\n",
       "      <th>2</th>\n",
       "      <td>NaN</td>\n",
       "      <td>NaN</td>\n",
       "      <td>20.0</td>\n",
       "      <td>NaN</td>\n",
       "      <td>NaN</td>\n",
       "      <td>40.0</td>\n",
       "    </tr>\n",
       "  </tbody>\n",
       "</table>\n",
       "</div>"
      ],
      "text/plain": [
       "   alex   bob  chris  claire   den  sarah\n",
       "0  30.0   NaN    NaN     NaN   NaN   10.0\n",
       "1   NaN  40.0    NaN    30.0  50.0    NaN\n",
       "2   NaN   NaN   20.0     NaN   NaN   40.0"
      ]
     },
     "execution_count": 10,
     "metadata": {
      "tags": []
     },
     "output_type": "execute_result"
    }
   ],
   "source": [
    "#create DataFrame from list of dictionaries\n",
    "ld = [{'sarah': 10, 'alex': 30}, {'claire': 30, 'bob': 40, 'den': 50}, {'chris': 20, 'sarah': 40}]\n",
    "df = pd.DataFrame(ld)\n",
    "df"
   ]
  },
  {
   "cell_type": "code",
   "execution_count": 0,
   "metadata": {
    "colab": {
     "base_uri": "https://localhost:8080/",
     "height": 170
    },
    "colab_type": "code",
    "executionInfo": {
     "elapsed": 271,
     "status": "ok",
     "timestamp": 1562433415025,
     "user": {
      "displayName": "Logan Sargsyan",
      "photoUrl": "https://lh6.googleusercontent.com/-V3eYAGniEto/AAAAAAAAAAI/AAAAAAAAAAo/nyxhhsTEK-4/s64/photo.jpg",
      "userId": "10474557382787208514"
     },
     "user_tz": 420
    },
    "id": "sbOckAyKa9wH",
    "outputId": "2f9375ca-566b-4561-c5ac-376f96766785"
   },
   "outputs": [
    {
     "name": "stdout",
     "output_type": "stream",
     "text": [
      "   alex  claire  chris\n",
      "0  30.0     NaN    NaN\n",
      "1   NaN    30.0    NaN\n",
      "2   NaN     NaN   20.0 \n",
      "\n",
      "        alex   bob  chris  claire   den  sarah\n",
      "first   30.0   NaN    NaN     NaN   NaN   10.0\n",
      "second   NaN  40.0    NaN    30.0  50.0    NaN\n",
      "third    NaN   NaN   20.0     NaN   NaN   40.0\n"
     ]
    }
   ],
   "source": [
    "#the same way we can select index and columns\n",
    "df = pd.DataFrame(ld, columns = ['alex', 'claire', 'chris'])\n",
    "print (df, '\\n')\n",
    "\n",
    "df = pd.DataFrame(ld, index = ['first', 'second', 'third'])\n",
    "print (df)"
   ]
  },
  {
   "cell_type": "markdown",
   "metadata": {
    "colab_type": "text",
    "id": "tnx_w4Chczjq"
   },
   "source": [
    "**DataFrame operations**"
   ]
  },
  {
   "cell_type": "code",
   "execution_count": 0,
   "metadata": {
    "colab": {
     "base_uri": "https://localhost:8080/",
     "height": 142
    },
    "colab_type": "code",
    "executionInfo": {
     "elapsed": 266,
     "status": "ok",
     "timestamp": 1562433424940,
     "user": {
      "displayName": "Logan Sargsyan",
      "photoUrl": "https://lh6.googleusercontent.com/-V3eYAGniEto/AAAAAAAAAAI/AAAAAAAAAAo/nyxhhsTEK-4/s64/photo.jpg",
      "userId": "10474557382787208514"
     },
     "user_tz": 420
    },
    "id": "k8yKiU4OciJE",
    "outputId": "6a0ac055-0847-4c0e-ca0f-4eed9d9ff702"
   },
   "outputs": [
    {
     "data": {
      "text/html": [
       "<div>\n",
       "<style scoped>\n",
       "    .dataframe tbody tr th:only-of-type {\n",
       "        vertical-align: middle;\n",
       "    }\n",
       "\n",
       "    .dataframe tbody tr th {\n",
       "        vertical-align: top;\n",
       "    }\n",
       "\n",
       "    .dataframe thead th {\n",
       "        text-align: right;\n",
       "    }\n",
       "</style>\n",
       "<table border=\"1\" class=\"dataframe\">\n",
       "  <thead>\n",
       "    <tr style=\"text-align: right;\">\n",
       "      <th></th>\n",
       "      <th>alex</th>\n",
       "      <th>bob</th>\n",
       "      <th>chris</th>\n",
       "      <th>claire</th>\n",
       "      <th>den</th>\n",
       "      <th>sarah</th>\n",
       "    </tr>\n",
       "  </thead>\n",
       "  <tbody>\n",
       "    <tr>\n",
       "      <th>first</th>\n",
       "      <td>30.0</td>\n",
       "      <td>NaN</td>\n",
       "      <td>NaN</td>\n",
       "      <td>NaN</td>\n",
       "      <td>NaN</td>\n",
       "      <td>10.0</td>\n",
       "    </tr>\n",
       "    <tr>\n",
       "      <th>second</th>\n",
       "      <td>NaN</td>\n",
       "      <td>40.0</td>\n",
       "      <td>NaN</td>\n",
       "      <td>30.0</td>\n",
       "      <td>50.0</td>\n",
       "      <td>NaN</td>\n",
       "    </tr>\n",
       "    <tr>\n",
       "      <th>third</th>\n",
       "      <td>NaN</td>\n",
       "      <td>NaN</td>\n",
       "      <td>20.0</td>\n",
       "      <td>NaN</td>\n",
       "      <td>NaN</td>\n",
       "      <td>40.0</td>\n",
       "    </tr>\n",
       "  </tbody>\n",
       "</table>\n",
       "</div>"
      ],
      "text/plain": [
       "        alex   bob  chris  claire   den  sarah\n",
       "first   30.0   NaN    NaN     NaN   NaN   10.0\n",
       "second   NaN  40.0    NaN    30.0  50.0    NaN\n",
       "third    NaN   NaN   20.0     NaN   NaN   40.0"
      ]
     },
     "execution_count": 12,
     "metadata": {
      "tags": []
     },
     "output_type": "execute_result"
    }
   ],
   "source": [
    "df = pd.DataFrame(ld, index = ['first', 'second', 'third'])\n",
    "df"
   ]
  },
  {
   "cell_type": "code",
   "execution_count": 0,
   "metadata": {
    "colab": {
     "base_uri": "https://localhost:8080/",
     "height": 85
    },
    "colab_type": "code",
    "executionInfo": {
     "elapsed": 309,
     "status": "ok",
     "timestamp": 1562433428146,
     "user": {
      "displayName": "Logan Sargsyan",
      "photoUrl": "https://lh6.googleusercontent.com/-V3eYAGniEto/AAAAAAAAAAI/AAAAAAAAAAo/nyxhhsTEK-4/s64/photo.jpg",
      "userId": "10474557382787208514"
     },
     "user_tz": 420
    },
    "id": "aqk1xm_VdHzc",
    "outputId": "957192d0-e508-4bb2-84ee-8b8d128e239f"
   },
   "outputs": [
    {
     "data": {
      "text/plain": [
       "first     30.0\n",
       "second     NaN\n",
       "third      NaN\n",
       "Name: alex, dtype: float64"
      ]
     },
     "execution_count": 13,
     "metadata": {
      "tags": []
     },
     "output_type": "execute_result"
    }
   ],
   "source": [
    "#get a column by name\n",
    "df['alex']"
   ]
  },
  {
   "cell_type": "code",
   "execution_count": 0,
   "metadata": {
    "colab": {
     "base_uri": "https://localhost:8080/",
     "height": 136
    },
    "colab_type": "code",
    "executionInfo": {
     "elapsed": 295,
     "status": "ok",
     "timestamp": 1562433437013,
     "user": {
      "displayName": "Logan Sargsyan",
      "photoUrl": "https://lh6.googleusercontent.com/-V3eYAGniEto/AAAAAAAAAAI/AAAAAAAAAAo/nyxhhsTEK-4/s64/photo.jpg",
      "userId": "10474557382787208514"
     },
     "user_tz": 420
    },
    "id": "06wvA3sbOoVS",
    "outputId": "4997c098-aa59-49c6-e957-6916a147a69b"
   },
   "outputs": [
    {
     "data": {
      "text/plain": [
       "alex      30.0\n",
       "bob        NaN\n",
       "chris      NaN\n",
       "claire     NaN\n",
       "den        NaN\n",
       "sarah     10.0\n",
       "Name: first, dtype: float64"
      ]
     },
     "execution_count": 14,
     "metadata": {
      "tags": []
     },
     "output_type": "execute_result"
    }
   ],
   "source": [
    "#get a row by name\n",
    "df.loc['first']"
   ]
  },
  {
   "cell_type": "code",
   "execution_count": 0,
   "metadata": {
    "colab": {
     "base_uri": "https://localhost:8080/",
     "height": 306
    },
    "colab_type": "code",
    "executionInfo": {
     "elapsed": 260,
     "status": "ok",
     "timestamp": 1562433442822,
     "user": {
      "displayName": "Logan Sargsyan",
      "photoUrl": "https://lh6.googleusercontent.com/-V3eYAGniEto/AAAAAAAAAAI/AAAAAAAAAAo/nyxhhsTEK-4/s64/photo.jpg",
      "userId": "10474557382787208514"
     },
     "user_tz": 420
    },
    "id": "-9P34GziPJRG",
    "outputId": "d8a01226-d93a-43ff-f6c9-2cf31a94ae49"
   },
   "outputs": [
    {
     "name": "stdout",
     "output_type": "stream",
     "text": [
      "multiple columns \n",
      "          bob  claire   den\n",
      "first    NaN     NaN   NaN\n",
      "second  40.0    30.0  50.0\n",
      "third    NaN     NaN   NaN \n",
      "\n",
      "\n",
      "multiple rows \n",
      "        alex  bob  chris  claire  den  sarah\n",
      "first  30.0  NaN    NaN     NaN  NaN   10.0\n",
      "third   NaN  NaN   20.0     NaN  NaN   40.0 \n",
      "\n",
      "\n",
      "multiple rows and columns \n",
      "        bob  claire  den\n",
      "first  NaN     NaN  NaN\n",
      "third  NaN     NaN  NaN\n"
     ]
    }
   ],
   "source": [
    "#retriev multiple rows or columns\n",
    "print ('multiple columns', '\\n',  df[['bob', 'claire', 'den']], '\\n\\n')\n",
    "print ('multiple rows', '\\n', df.loc[['first', 'third']], '\\n\\n')\n",
    "print ('multiple rows and columns', '\\n', df.loc[['first', 'third'], ['bob', 'claire', 'den']])"
   ]
  },
  {
   "cell_type": "code",
   "execution_count": 0,
   "metadata": {
    "colab": {
     "base_uri": "https://localhost:8080/",
     "height": 111
    },
    "colab_type": "code",
    "executionInfo": {
     "elapsed": 285,
     "status": "ok",
     "timestamp": 1562433492416,
     "user": {
      "displayName": "Logan Sargsyan",
      "photoUrl": "https://lh6.googleusercontent.com/-V3eYAGniEto/AAAAAAAAAAI/AAAAAAAAAAo/nyxhhsTEK-4/s64/photo.jpg",
      "userId": "10474557382787208514"
     },
     "user_tz": 420
    },
    "id": "_dCqb5tfVC-_",
    "outputId": "00f8e372-6235-482c-b34c-118622298fc2"
   },
   "outputs": [
    {
     "data": {
      "text/html": [
       "<div>\n",
       "<style scoped>\n",
       "    .dataframe tbody tr th:only-of-type {\n",
       "        vertical-align: middle;\n",
       "    }\n",
       "\n",
       "    .dataframe tbody tr th {\n",
       "        vertical-align: top;\n",
       "    }\n",
       "\n",
       "    .dataframe thead th {\n",
       "        text-align: right;\n",
       "    }\n",
       "</style>\n",
       "<table border=\"1\" class=\"dataframe\">\n",
       "  <thead>\n",
       "    <tr style=\"text-align: right;\">\n",
       "      <th></th>\n",
       "      <th>alex</th>\n",
       "      <th>chris</th>\n",
       "      <th>claire</th>\n",
       "    </tr>\n",
       "  </thead>\n",
       "  <tbody>\n",
       "    <tr>\n",
       "      <th>second</th>\n",
       "      <td>NaN</td>\n",
       "      <td>NaN</td>\n",
       "      <td>30.0</td>\n",
       "    </tr>\n",
       "    <tr>\n",
       "      <th>third</th>\n",
       "      <td>NaN</td>\n",
       "      <td>20.0</td>\n",
       "      <td>NaN</td>\n",
       "    </tr>\n",
       "  </tbody>\n",
       "</table>\n",
       "</div>"
      ],
      "text/plain": [
       "        alex  chris  claire\n",
       "second   NaN    NaN    30.0\n",
       "third    NaN   20.0     NaN"
      ]
     },
     "execution_count": 22,
     "metadata": {
      "tags": []
     },
     "output_type": "execute_result"
    }
   ],
   "source": [
    "#the same way we can use iloc to get rows and columns by position\n",
    "df.iloc[[1,2], [0,2,3]]"
   ]
  },
  {
   "cell_type": "code",
   "execution_count": 0,
   "metadata": {
    "colab": {
     "base_uri": "https://localhost:8080/",
     "height": 142
    },
    "colab_type": "code",
    "executionInfo": {
     "elapsed": 398,
     "status": "ok",
     "timestamp": 1562433535050,
     "user": {
      "displayName": "Logan Sargsyan",
      "photoUrl": "https://lh6.googleusercontent.com/-V3eYAGniEto/AAAAAAAAAAI/AAAAAAAAAAo/nyxhhsTEK-4/s64/photo.jpg",
      "userId": "10474557382787208514"
     },
     "user_tz": 420
    },
    "id": "i6jQdtMYS6-5",
    "outputId": "e6b1b0b3-99b6-45f3-828f-fa0c4009baa7"
   },
   "outputs": [
    {
     "data": {
      "text/html": [
       "<div>\n",
       "<style scoped>\n",
       "    .dataframe tbody tr th:only-of-type {\n",
       "        vertical-align: middle;\n",
       "    }\n",
       "\n",
       "    .dataframe tbody tr th {\n",
       "        vertical-align: top;\n",
       "    }\n",
       "\n",
       "    .dataframe thead th {\n",
       "        text-align: right;\n",
       "    }\n",
       "</style>\n",
       "<table border=\"1\" class=\"dataframe\">\n",
       "  <thead>\n",
       "    <tr style=\"text-align: right;\">\n",
       "      <th></th>\n",
       "      <th>alex</th>\n",
       "      <th>bob</th>\n",
       "      <th>chris</th>\n",
       "      <th>claire</th>\n",
       "      <th>den</th>\n",
       "      <th>sarah</th>\n",
       "    </tr>\n",
       "  </thead>\n",
       "  <tbody>\n",
       "    <tr>\n",
       "      <th>first</th>\n",
       "      <td>30.0</td>\n",
       "      <td>NaN</td>\n",
       "      <td>NaN</td>\n",
       "      <td>NaN</td>\n",
       "      <td>NaN</td>\n",
       "      <td>10.0</td>\n",
       "    </tr>\n",
       "    <tr>\n",
       "      <th>second</th>\n",
       "      <td>NaN</td>\n",
       "      <td>40.0</td>\n",
       "      <td>NaN</td>\n",
       "      <td>30.0</td>\n",
       "      <td>50.0</td>\n",
       "      <td>NaN</td>\n",
       "    </tr>\n",
       "    <tr>\n",
       "      <th>third</th>\n",
       "      <td>NaN</td>\n",
       "      <td>NaN</td>\n",
       "      <td>20.0</td>\n",
       "      <td>NaN</td>\n",
       "      <td>NaN</td>\n",
       "      <td>40.0</td>\n",
       "    </tr>\n",
       "  </tbody>\n",
       "</table>\n",
       "</div>"
      ],
      "text/plain": [
       "        alex   bob  chris  claire   den  sarah\n",
       "first   30.0   NaN    NaN     NaN   NaN   10.0\n",
       "second   NaN  40.0    NaN    30.0  50.0    NaN\n",
       "third    NaN   NaN   20.0     NaN   NaN   40.0"
      ]
     },
     "execution_count": 24,
     "metadata": {
      "tags": []
     },
     "output_type": "execute_result"
    }
   ],
   "source": [
    "df"
   ]
  },
  {
   "cell_type": "code",
   "execution_count": 0,
   "metadata": {
    "colab": {
     "base_uri": "https://localhost:8080/",
     "height": 142
    },
    "colab_type": "code",
    "executionInfo": {
     "elapsed": 283,
     "status": "ok",
     "timestamp": 1562433676335,
     "user": {
      "displayName": "Logan Sargsyan",
      "photoUrl": "https://lh6.googleusercontent.com/-V3eYAGniEto/AAAAAAAAAAI/AAAAAAAAAAo/nyxhhsTEK-4/s64/photo.jpg",
      "userId": "10474557382787208514"
     },
     "user_tz": 420
    },
    "id": "jA0Iho1TdaOz",
    "outputId": "7ea82110-b55c-43bb-8ae2-8f1f3d226cb7"
   },
   "outputs": [
    {
     "data": {
      "text/html": [
       "<div>\n",
       "<style scoped>\n",
       "    .dataframe tbody tr th:only-of-type {\n",
       "        vertical-align: middle;\n",
       "    }\n",
       "\n",
       "    .dataframe tbody tr th {\n",
       "        vertical-align: top;\n",
       "    }\n",
       "\n",
       "    .dataframe thead th {\n",
       "        text-align: right;\n",
       "    }\n",
       "</style>\n",
       "<table border=\"1\" class=\"dataframe\">\n",
       "  <thead>\n",
       "    <tr style=\"text-align: right;\">\n",
       "      <th></th>\n",
       "      <th>alex</th>\n",
       "      <th>bob</th>\n",
       "      <th>chris</th>\n",
       "      <th>claire</th>\n",
       "      <th>den</th>\n",
       "      <th>sarah</th>\n",
       "      <th>lily</th>\n",
       "    </tr>\n",
       "  </thead>\n",
       "  <tbody>\n",
       "    <tr>\n",
       "      <th>first</th>\n",
       "      <td>30.0</td>\n",
       "      <td>NaN</td>\n",
       "      <td>NaN</td>\n",
       "      <td>NaN</td>\n",
       "      <td>NaN</td>\n",
       "      <td>10.0</td>\n",
       "      <td>20.0</td>\n",
       "    </tr>\n",
       "    <tr>\n",
       "      <th>second</th>\n",
       "      <td>NaN</td>\n",
       "      <td>40.0</td>\n",
       "      <td>NaN</td>\n",
       "      <td>30.0</td>\n",
       "      <td>50.0</td>\n",
       "      <td>NaN</td>\n",
       "      <td>NaN</td>\n",
       "    </tr>\n",
       "    <tr>\n",
       "      <th>third</th>\n",
       "      <td>NaN</td>\n",
       "      <td>NaN</td>\n",
       "      <td>20.0</td>\n",
       "      <td>NaN</td>\n",
       "      <td>NaN</td>\n",
       "      <td>40.0</td>\n",
       "      <td>NaN</td>\n",
       "    </tr>\n",
       "  </tbody>\n",
       "</table>\n",
       "</div>"
      ],
      "text/plain": [
       "        alex   bob  chris  claire   den  sarah  lily\n",
       "first   30.0   NaN    NaN     NaN   NaN   10.0  20.0\n",
       "second   NaN  40.0    NaN    30.0  50.0    NaN   NaN\n",
       "third    NaN   NaN   20.0     NaN   NaN   40.0   NaN"
      ]
     },
     "execution_count": 25,
     "metadata": {
      "tags": []
     },
     "output_type": "execute_result"
    }
   ],
   "source": [
    "#add new column\n",
    "df['lily'] = df['alex'] - df['sarah']\n",
    "df"
   ]
  },
  {
   "cell_type": "code",
   "execution_count": 0,
   "metadata": {
    "colab": {
     "base_uri": "https://localhost:8080/",
     "height": 142
    },
    "colab_type": "code",
    "executionInfo": {
     "elapsed": 312,
     "status": "ok",
     "timestamp": 1562433706298,
     "user": {
      "displayName": "Logan Sargsyan",
      "photoUrl": "https://lh6.googleusercontent.com/-V3eYAGniEto/AAAAAAAAAAI/AAAAAAAAAAo/nyxhhsTEK-4/s64/photo.jpg",
      "userId": "10474557382787208514"
     },
     "user_tz": 420
    },
    "id": "WsERvOOMdpZm",
    "outputId": "ea338021-507f-484e-871b-0712dcf1bccf"
   },
   "outputs": [
    {
     "data": {
      "text/html": [
       "<div>\n",
       "<style scoped>\n",
       "    .dataframe tbody tr th:only-of-type {\n",
       "        vertical-align: middle;\n",
       "    }\n",
       "\n",
       "    .dataframe tbody tr th {\n",
       "        vertical-align: top;\n",
       "    }\n",
       "\n",
       "    .dataframe thead th {\n",
       "        text-align: right;\n",
       "    }\n",
       "</style>\n",
       "<table border=\"1\" class=\"dataframe\">\n",
       "  <thead>\n",
       "    <tr style=\"text-align: right;\">\n",
       "      <th></th>\n",
       "      <th>alex</th>\n",
       "      <th>bob</th>\n",
       "      <th>chris</th>\n",
       "      <th>claire</th>\n",
       "      <th>den</th>\n",
       "      <th>sarah</th>\n",
       "      <th>lily</th>\n",
       "      <th>sam</th>\n",
       "    </tr>\n",
       "  </thead>\n",
       "  <tbody>\n",
       "    <tr>\n",
       "      <th>first</th>\n",
       "      <td>30.0</td>\n",
       "      <td>NaN</td>\n",
       "      <td>NaN</td>\n",
       "      <td>NaN</td>\n",
       "      <td>NaN</td>\n",
       "      <td>10.0</td>\n",
       "      <td>20.0</td>\n",
       "      <td>False</td>\n",
       "    </tr>\n",
       "    <tr>\n",
       "      <th>second</th>\n",
       "      <td>NaN</td>\n",
       "      <td>40.0</td>\n",
       "      <td>NaN</td>\n",
       "      <td>30.0</td>\n",
       "      <td>50.0</td>\n",
       "      <td>NaN</td>\n",
       "      <td>NaN</td>\n",
       "      <td>False</td>\n",
       "    </tr>\n",
       "    <tr>\n",
       "      <th>third</th>\n",
       "      <td>NaN</td>\n",
       "      <td>NaN</td>\n",
       "      <td>20.0</td>\n",
       "      <td>NaN</td>\n",
       "      <td>NaN</td>\n",
       "      <td>40.0</td>\n",
       "      <td>NaN</td>\n",
       "      <td>True</td>\n",
       "    </tr>\n",
       "  </tbody>\n",
       "</table>\n",
       "</div>"
      ],
      "text/plain": [
       "        alex   bob  chris  claire   den  sarah  lily    sam\n",
       "first   30.0   NaN    NaN     NaN   NaN   10.0  20.0  False\n",
       "second   NaN  40.0    NaN    30.0  50.0    NaN   NaN  False\n",
       "third    NaN   NaN   20.0     NaN   NaN   40.0   NaN   True"
      ]
     },
     "execution_count": 26,
     "metadata": {
      "tags": []
     },
     "output_type": "execute_result"
    }
   ],
   "source": [
    "#add another one \n",
    "df['sam'] = df['chris'] < 30\n",
    "df"
   ]
  },
  {
   "cell_type": "code",
   "execution_count": 0,
   "metadata": {
    "colab": {
     "base_uri": "https://localhost:8080/",
     "height": 227
    },
    "colab_type": "code",
    "executionInfo": {
     "elapsed": 375,
     "status": "ok",
     "timestamp": 1562433740242,
     "user": {
      "displayName": "Logan Sargsyan",
      "photoUrl": "https://lh6.googleusercontent.com/-V3eYAGniEto/AAAAAAAAAAI/AAAAAAAAAAo/nyxhhsTEK-4/s64/photo.jpg",
      "userId": "10474557382787208514"
     },
     "user_tz": 420
    },
    "id": "-lJuKnnCeMGB",
    "outputId": "13e1212d-0f1d-47ec-f418-7a63298984f0"
   },
   "outputs": [
    {
     "name": "stdout",
     "output_type": "stream",
     "text": [
      "first      NaN\n",
      "second    30.0\n",
      "third      NaN\n",
      "Name: claire, dtype: float64 \n",
      "\n"
     ]
    },
    {
     "data": {
      "text/html": [
       "<div>\n",
       "<style scoped>\n",
       "    .dataframe tbody tr th:only-of-type {\n",
       "        vertical-align: middle;\n",
       "    }\n",
       "\n",
       "    .dataframe tbody tr th {\n",
       "        vertical-align: top;\n",
       "    }\n",
       "\n",
       "    .dataframe thead th {\n",
       "        text-align: right;\n",
       "    }\n",
       "</style>\n",
       "<table border=\"1\" class=\"dataframe\">\n",
       "  <thead>\n",
       "    <tr style=\"text-align: right;\">\n",
       "      <th></th>\n",
       "      <th>alex</th>\n",
       "      <th>bob</th>\n",
       "      <th>chris</th>\n",
       "      <th>den</th>\n",
       "      <th>sarah</th>\n",
       "      <th>lily</th>\n",
       "      <th>sam</th>\n",
       "    </tr>\n",
       "  </thead>\n",
       "  <tbody>\n",
       "    <tr>\n",
       "      <th>first</th>\n",
       "      <td>30.0</td>\n",
       "      <td>NaN</td>\n",
       "      <td>NaN</td>\n",
       "      <td>NaN</td>\n",
       "      <td>10.0</td>\n",
       "      <td>20.0</td>\n",
       "      <td>False</td>\n",
       "    </tr>\n",
       "    <tr>\n",
       "      <th>second</th>\n",
       "      <td>NaN</td>\n",
       "      <td>40.0</td>\n",
       "      <td>NaN</td>\n",
       "      <td>50.0</td>\n",
       "      <td>NaN</td>\n",
       "      <td>NaN</td>\n",
       "      <td>False</td>\n",
       "    </tr>\n",
       "    <tr>\n",
       "      <th>third</th>\n",
       "      <td>NaN</td>\n",
       "      <td>NaN</td>\n",
       "      <td>20.0</td>\n",
       "      <td>NaN</td>\n",
       "      <td>40.0</td>\n",
       "      <td>NaN</td>\n",
       "      <td>True</td>\n",
       "    </tr>\n",
       "  </tbody>\n",
       "</table>\n",
       "</div>"
      ],
      "text/plain": [
       "        alex   bob  chris   den  sarah  lily    sam\n",
       "first   30.0   NaN    NaN   NaN   10.0  20.0  False\n",
       "second   NaN  40.0    NaN  50.0    NaN   NaN  False\n",
       "third    NaN   NaN   20.0   NaN   40.0   NaN   True"
      ]
     },
     "execution_count": 27,
     "metadata": {
      "tags": []
     },
     "output_type": "execute_result"
    }
   ],
   "source": [
    "#pop a column\n",
    "last = df.pop('claire')\n",
    "print (last, '\\n')\n",
    "df"
   ]
  },
  {
   "cell_type": "code",
   "execution_count": 0,
   "metadata": {
    "colab": {
     "base_uri": "https://localhost:8080/",
     "height": 142
    },
    "colab_type": "code",
    "executionInfo": {
     "elapsed": 294,
     "status": "ok",
     "timestamp": 1562433844073,
     "user": {
      "displayName": "Logan Sargsyan",
      "photoUrl": "https://lh6.googleusercontent.com/-V3eYAGniEto/AAAAAAAAAAI/AAAAAAAAAAo/nyxhhsTEK-4/s64/photo.jpg",
      "userId": "10474557382787208514"
     },
     "user_tz": 420
    },
    "id": "LU96V5k9ewud",
    "outputId": "8f6b2bcb-1048-4d62-fda7-74d31b4e98b6"
   },
   "outputs": [
    {
     "data": {
      "text/html": [
       "<div>\n",
       "<style scoped>\n",
       "    .dataframe tbody tr th:only-of-type {\n",
       "        vertical-align: middle;\n",
       "    }\n",
       "\n",
       "    .dataframe tbody tr th {\n",
       "        vertical-align: top;\n",
       "    }\n",
       "\n",
       "    .dataframe thead th {\n",
       "        text-align: right;\n",
       "    }\n",
       "</style>\n",
       "<table border=\"1\" class=\"dataframe\">\n",
       "  <thead>\n",
       "    <tr style=\"text-align: right;\">\n",
       "      <th></th>\n",
       "      <th>alex</th>\n",
       "      <th>bob</th>\n",
       "      <th>den</th>\n",
       "      <th>sarah</th>\n",
       "      <th>lily</th>\n",
       "      <th>sam</th>\n",
       "    </tr>\n",
       "  </thead>\n",
       "  <tbody>\n",
       "    <tr>\n",
       "      <th>first</th>\n",
       "      <td>30.0</td>\n",
       "      <td>NaN</td>\n",
       "      <td>NaN</td>\n",
       "      <td>10.0</td>\n",
       "      <td>20.0</td>\n",
       "      <td>False</td>\n",
       "    </tr>\n",
       "    <tr>\n",
       "      <th>second</th>\n",
       "      <td>NaN</td>\n",
       "      <td>40.0</td>\n",
       "      <td>50.0</td>\n",
       "      <td>NaN</td>\n",
       "      <td>NaN</td>\n",
       "      <td>False</td>\n",
       "    </tr>\n",
       "    <tr>\n",
       "      <th>third</th>\n",
       "      <td>NaN</td>\n",
       "      <td>NaN</td>\n",
       "      <td>NaN</td>\n",
       "      <td>40.0</td>\n",
       "      <td>NaN</td>\n",
       "      <td>True</td>\n",
       "    </tr>\n",
       "  </tbody>\n",
       "</table>\n",
       "</div>"
      ],
      "text/plain": [
       "        alex   bob   den  sarah  lily    sam\n",
       "first   30.0   NaN   NaN   10.0  20.0  False\n",
       "second   NaN  40.0  50.0    NaN   NaN  False\n",
       "third    NaN   NaN   NaN   40.0   NaN   True"
      ]
     },
     "execution_count": 28,
     "metadata": {
      "tags": []
     },
     "output_type": "execute_result"
    }
   ],
   "source": [
    "#delete a column\n",
    "del(df['chris'])\n",
    "df"
   ]
  },
  {
   "cell_type": "code",
   "execution_count": 0,
   "metadata": {
    "colab": {
     "base_uri": "https://localhost:8080/",
     "height": 142
    },
    "colab_type": "code",
    "executionInfo": {
     "elapsed": 358,
     "status": "ok",
     "timestamp": 1562434045283,
     "user": {
      "displayName": "Logan Sargsyan",
      "photoUrl": "https://lh6.googleusercontent.com/-V3eYAGniEto/AAAAAAAAAAI/AAAAAAAAAAo/nyxhhsTEK-4/s64/photo.jpg",
      "userId": "10474557382787208514"
     },
     "user_tz": 420
    },
    "id": "VlB3ZLA0fQIu",
    "outputId": "d878c85c-dcb9-4fa4-d4fc-9fe710efcbfd"
   },
   "outputs": [
    {
     "data": {
      "text/html": [
       "<div>\n",
       "<style scoped>\n",
       "    .dataframe tbody tr th:only-of-type {\n",
       "        vertical-align: middle;\n",
       "    }\n",
       "\n",
       "    .dataframe tbody tr th {\n",
       "        vertical-align: top;\n",
       "    }\n",
       "\n",
       "    .dataframe thead th {\n",
       "        text-align: right;\n",
       "    }\n",
       "</style>\n",
       "<table border=\"1\" class=\"dataframe\">\n",
       "  <thead>\n",
       "    <tr style=\"text-align: right;\">\n",
       "      <th></th>\n",
       "      <th>alex</th>\n",
       "      <th>bob</th>\n",
       "      <th>alex+bob</th>\n",
       "      <th>den</th>\n",
       "      <th>sarah</th>\n",
       "      <th>lily</th>\n",
       "      <th>sam</th>\n",
       "    </tr>\n",
       "  </thead>\n",
       "  <tbody>\n",
       "    <tr>\n",
       "      <th>first</th>\n",
       "      <td>30.0</td>\n",
       "      <td>NaN</td>\n",
       "      <td>NaN</td>\n",
       "      <td>NaN</td>\n",
       "      <td>10.0</td>\n",
       "      <td>20.0</td>\n",
       "      <td>False</td>\n",
       "    </tr>\n",
       "    <tr>\n",
       "      <th>second</th>\n",
       "      <td>NaN</td>\n",
       "      <td>40.0</td>\n",
       "      <td>NaN</td>\n",
       "      <td>50.0</td>\n",
       "      <td>NaN</td>\n",
       "      <td>NaN</td>\n",
       "      <td>False</td>\n",
       "    </tr>\n",
       "    <tr>\n",
       "      <th>third</th>\n",
       "      <td>NaN</td>\n",
       "      <td>NaN</td>\n",
       "      <td>NaN</td>\n",
       "      <td>NaN</td>\n",
       "      <td>40.0</td>\n",
       "      <td>NaN</td>\n",
       "      <td>True</td>\n",
       "    </tr>\n",
       "  </tbody>\n",
       "</table>\n",
       "</div>"
      ],
      "text/plain": [
       "        alex   bob  alex+bob   den  sarah  lily    sam\n",
       "first   30.0   NaN       NaN   NaN   10.0  20.0  False\n",
       "second   NaN  40.0       NaN  50.0    NaN   NaN  False\n",
       "third    NaN   NaN       NaN   NaN   40.0   NaN   True"
      ]
     },
     "execution_count": 29,
     "metadata": {
      "tags": []
     },
     "output_type": "execute_result"
    }
   ],
   "source": [
    "#insert a column\n",
    "df.insert(2, 'alex+bob', df['alex']+df['bob'])\n",
    "df"
   ]
  },
  {
   "cell_type": "markdown",
   "metadata": {
    "colab_type": "text",
    "id": "foVlWgvO6uin"
   },
   "source": [
    "**Use pandas to read the dataset**"
   ]
  },
  {
   "cell_type": "code",
   "execution_count": 0,
   "metadata": {
    "colab": {},
    "colab_type": "code",
    "id": "Iy1Q6y7Yfrfw"
   },
   "outputs": [],
   "source": [
    "#to get files from Google drive to Colab, mount the Google drive to Colab session\n",
    "from google.colab import drive\n"
   ]
  },
  {
   "cell_type": "code",
   "execution_count": 0,
   "metadata": {
    "colab": {
     "base_uri": "https://localhost:8080/",
     "height": 122
    },
    "colab_type": "code",
    "executionInfo": {
     "elapsed": 91982,
     "status": "ok",
     "timestamp": 1562434517700,
     "user": {
      "displayName": "Logan Sargsyan",
      "photoUrl": "https://lh6.googleusercontent.com/-V3eYAGniEto/AAAAAAAAAAI/AAAAAAAAAAo/nyxhhsTEK-4/s64/photo.jpg",
      "userId": "10474557382787208514"
     },
     "user_tz": 420
    },
    "id": "FA7EDVRrEFJQ",
    "outputId": "a95f3af0-f9cf-4d9e-d174-251a2bee5a78"
   },
   "outputs": [
    {
     "name": "stdout",
     "output_type": "stream",
     "text": [
      "Go to this URL in a browser: https://accounts.google.com/o/oauth2/auth?client_id=947318989803-6bn6qk8qdgf4n4g3pfee6491hc0brc4i.apps.googleusercontent.com&redirect_uri=urn%3Aietf%3Awg%3Aoauth%3A2.0%3Aoob&scope=email%20https%3A%2F%2Fwww.googleapis.com%2Fauth%2Fdocs.test%20https%3A%2F%2Fwww.googleapis.com%2Fauth%2Fdrive%20https%3A%2F%2Fwww.googleapis.com%2Fauth%2Fdrive.photos.readonly%20https%3A%2F%2Fwww.googleapis.com%2Fauth%2Fpeopleapi.readonly&response_type=code\n",
      "\n",
      "Enter your authorization code:\n",
      "··········\n",
      "Mounted at /content/drive\n"
     ]
    }
   ],
   "source": [
    "#this will prompt for authorization\n",
    "drive.mount('/content/drive')"
   ]
  },
  {
   "cell_type": "code",
   "execution_count": 0,
   "metadata": {
    "colab": {
     "base_uri": "https://localhost:8080/",
     "height": 204
    },
    "colab_type": "code",
    "executionInfo": {
     "elapsed": 1207,
     "status": "ok",
     "timestamp": 1561954556592,
     "user": {
      "displayName": "Logan Sargsyan",
      "photoUrl": "https://lh6.googleusercontent.com/-V3eYAGniEto/AAAAAAAAAAI/AAAAAAAAAAo/nyxhhsTEK-4/s64/photo.jpg",
      "userId": "10474557382787208514"
     },
     "user_tz": 420
    },
    "id": "a1Dn9rgcFRYj",
    "outputId": "93fd28fd-3252-4801-fa3b-4925c4f14aa0"
   },
   "outputs": [
    {
     "name": "stdout",
     "output_type": "stream",
     "text": [
      "'BlackFriday copy.csv'\n",
      "'Interview Questions.gdoc'\n",
      " lesson1_numpy.ipynb\n",
      "'Lesson 1 - Pandas and Numpy.gdoc'\n",
      " lesson1_pandas.ipynb\n",
      "'Lesson 2: Data Visualization.gdoc'\n",
      " lesson2.ipynb\n",
      " Planning.gdoc\n",
      "'Python For Data Analysis Flyer.gslides'\n",
      "'Python For Data Analysis Host Request.gdoc'\n",
      " ted-talks\n"
     ]
    }
   ],
   "source": [
    "#after executing the cell above, the Drive files will be present in \"/content/drive/My Drive\"\n",
    "!ls '/content/drive/My Drive/Python for Data Analysis Data Science'"
   ]
  },
  {
   "cell_type": "code",
   "execution_count": 0,
   "metadata": {
    "colab": {
     "base_uri": "https://localhost:8080/",
     "height": 598
    },
    "colab_type": "code",
    "executionInfo": {
     "elapsed": 351,
     "status": "ok",
     "timestamp": 1561955350693,
     "user": {
      "displayName": "Logan Sargsyan",
      "photoUrl": "https://lh6.googleusercontent.com/-V3eYAGniEto/AAAAAAAAAAI/AAAAAAAAAAo/nyxhhsTEK-4/s64/photo.jpg",
      "userId": "10474557382787208514"
     },
     "user_tz": 420
    },
    "id": "3yuNwuMXH-kD",
    "outputId": "9e0687e8-8ea5-4a6f-d5b5-77cb20c291e5"
   },
   "outputs": [
    {
     "data": {
      "text/html": [
       "<div>\n",
       "<style scoped>\n",
       "    .dataframe tbody tr th:only-of-type {\n",
       "        vertical-align: middle;\n",
       "    }\n",
       "\n",
       "    .dataframe tbody tr th {\n",
       "        vertical-align: top;\n",
       "    }\n",
       "\n",
       "    .dataframe thead th {\n",
       "        text-align: right;\n",
       "    }\n",
       "</style>\n",
       "<table border=\"1\" class=\"dataframe\">\n",
       "  <thead>\n",
       "    <tr style=\"text-align: right;\">\n",
       "      <th></th>\n",
       "      <th>comments</th>\n",
       "      <th>description</th>\n",
       "      <th>duration</th>\n",
       "      <th>event</th>\n",
       "      <th>film_date</th>\n",
       "      <th>languages</th>\n",
       "      <th>main_speaker</th>\n",
       "      <th>name</th>\n",
       "      <th>num_speaker</th>\n",
       "      <th>published_date</th>\n",
       "      <th>ratings</th>\n",
       "      <th>related_talks</th>\n",
       "      <th>speaker_occupation</th>\n",
       "      <th>tags</th>\n",
       "      <th>title</th>\n",
       "      <th>url</th>\n",
       "      <th>views</th>\n",
       "    </tr>\n",
       "  </thead>\n",
       "  <tbody>\n",
       "    <tr>\n",
       "      <th>0</th>\n",
       "      <td>4553</td>\n",
       "      <td>Sir Ken Robinson makes an entertaining and pro...</td>\n",
       "      <td>1164</td>\n",
       "      <td>TED2006</td>\n",
       "      <td>1140825600</td>\n",
       "      <td>60</td>\n",
       "      <td>Ken Robinson</td>\n",
       "      <td>Ken Robinson: Do schools kill creativity?</td>\n",
       "      <td>1</td>\n",
       "      <td>1151367060</td>\n",
       "      <td>[{'id': 7, 'name': 'Funny', 'count': 19645}, {...</td>\n",
       "      <td>[{'id': 865, 'hero': 'https://pe.tedcdn.com/im...</td>\n",
       "      <td>Author/educator</td>\n",
       "      <td>['children', 'creativity', 'culture', 'dance',...</td>\n",
       "      <td>Do schools kill creativity?</td>\n",
       "      <td>https://www.ted.com/talks/ken_robinson_says_sc...</td>\n",
       "      <td>47227110</td>\n",
       "    </tr>\n",
       "    <tr>\n",
       "      <th>1</th>\n",
       "      <td>265</td>\n",
       "      <td>With the same humor and humanity he exuded in ...</td>\n",
       "      <td>977</td>\n",
       "      <td>TED2006</td>\n",
       "      <td>1140825600</td>\n",
       "      <td>43</td>\n",
       "      <td>Al Gore</td>\n",
       "      <td>Al Gore: Averting the climate crisis</td>\n",
       "      <td>1</td>\n",
       "      <td>1151367060</td>\n",
       "      <td>[{'id': 7, 'name': 'Funny', 'count': 544}, {'i...</td>\n",
       "      <td>[{'id': 243, 'hero': 'https://pe.tedcdn.com/im...</td>\n",
       "      <td>Climate advocate</td>\n",
       "      <td>['alternative energy', 'cars', 'climate change...</td>\n",
       "      <td>Averting the climate crisis</td>\n",
       "      <td>https://www.ted.com/talks/al_gore_on_averting_...</td>\n",
       "      <td>3200520</td>\n",
       "    </tr>\n",
       "    <tr>\n",
       "      <th>2</th>\n",
       "      <td>124</td>\n",
       "      <td>New York Times columnist David Pogue takes aim...</td>\n",
       "      <td>1286</td>\n",
       "      <td>TED2006</td>\n",
       "      <td>1140739200</td>\n",
       "      <td>26</td>\n",
       "      <td>David Pogue</td>\n",
       "      <td>David Pogue: Simplicity sells</td>\n",
       "      <td>1</td>\n",
       "      <td>1151367060</td>\n",
       "      <td>[{'id': 7, 'name': 'Funny', 'count': 964}, {'i...</td>\n",
       "      <td>[{'id': 1725, 'hero': 'https://pe.tedcdn.com/i...</td>\n",
       "      <td>Technology columnist</td>\n",
       "      <td>['computers', 'entertainment', 'interface desi...</td>\n",
       "      <td>Simplicity sells</td>\n",
       "      <td>https://www.ted.com/talks/david_pogue_says_sim...</td>\n",
       "      <td>1636292</td>\n",
       "    </tr>\n",
       "    <tr>\n",
       "      <th>3</th>\n",
       "      <td>200</td>\n",
       "      <td>In an emotionally charged talk, MacArthur-winn...</td>\n",
       "      <td>1116</td>\n",
       "      <td>TED2006</td>\n",
       "      <td>1140912000</td>\n",
       "      <td>35</td>\n",
       "      <td>Majora Carter</td>\n",
       "      <td>Majora Carter: Greening the ghetto</td>\n",
       "      <td>1</td>\n",
       "      <td>1151367060</td>\n",
       "      <td>[{'id': 3, 'name': 'Courageous', 'count': 760}...</td>\n",
       "      <td>[{'id': 1041, 'hero': 'https://pe.tedcdn.com/i...</td>\n",
       "      <td>Activist for environmental justice</td>\n",
       "      <td>['MacArthur grant', 'activism', 'business', 'c...</td>\n",
       "      <td>Greening the ghetto</td>\n",
       "      <td>https://www.ted.com/talks/majora_carter_s_tale...</td>\n",
       "      <td>1697550</td>\n",
       "    </tr>\n",
       "    <tr>\n",
       "      <th>4</th>\n",
       "      <td>593</td>\n",
       "      <td>You've never seen data presented like this. Wi...</td>\n",
       "      <td>1190</td>\n",
       "      <td>TED2006</td>\n",
       "      <td>1140566400</td>\n",
       "      <td>48</td>\n",
       "      <td>Hans Rosling</td>\n",
       "      <td>Hans Rosling: The best stats you've ever seen</td>\n",
       "      <td>1</td>\n",
       "      <td>1151440680</td>\n",
       "      <td>[{'id': 9, 'name': 'Ingenious', 'count': 3202}...</td>\n",
       "      <td>[{'id': 2056, 'hero': 'https://pe.tedcdn.com/i...</td>\n",
       "      <td>Global health expert; data visionary</td>\n",
       "      <td>['Africa', 'Asia', 'Google', 'demo', 'economic...</td>\n",
       "      <td>The best stats you've ever seen</td>\n",
       "      <td>https://www.ted.com/talks/hans_rosling_shows_t...</td>\n",
       "      <td>12005869</td>\n",
       "    </tr>\n",
       "  </tbody>\n",
       "</table>\n",
       "</div>"
      ],
      "text/plain": [
       "   comments  ...     views\n",
       "0      4553  ...  47227110\n",
       "1       265  ...   3200520\n",
       "2       124  ...   1636292\n",
       "3       200  ...   1697550\n",
       "4       593  ...  12005869\n",
       "\n",
       "[5 rows x 17 columns]"
      ]
     },
     "execution_count": 16,
     "metadata": {
      "tags": []
     },
     "output_type": "execute_result"
    }
   ],
   "source": [
    "#read data from BlackFriday copy.csv to black_friday\n",
    "ted_talks = pd.read_csv('/content/drive/My Drive/Python for Data Analysis Data Science/ted-talks/ted_main.csv', sep = ',')\n",
    "#let's see what does each row and column represents\n",
    "ted_talks.head()"
   ]
  },
  {
   "cell_type": "markdown",
   "metadata": {
    "colab_type": "text",
    "id": "v9Tc697MWh2X"
   },
   "source": [
    "**Descriptive Statistics**"
   ]
  },
  {
   "cell_type": "code",
   "execution_count": 0,
   "metadata": {
    "colab": {
     "base_uri": "https://localhost:8080/",
     "height": 34
    },
    "colab_type": "code",
    "executionInfo": {
     "elapsed": 346,
     "status": "ok",
     "timestamp": 1561955356277,
     "user": {
      "displayName": "Logan Sargsyan",
      "photoUrl": "https://lh6.googleusercontent.com/-V3eYAGniEto/AAAAAAAAAAI/AAAAAAAAAAo/nyxhhsTEK-4/s64/photo.jpg",
      "userId": "10474557382787208514"
     },
     "user_tz": 420
    },
    "id": "wCP7BZuowBNF",
    "outputId": "7d7d697b-7e11-4d35-9dc2-ff6660e3f32a"
   },
   "outputs": [
    {
     "data": {
      "text/plain": [
       "(2550, 17)"
      ]
     },
     "execution_count": 17,
     "metadata": {
      "tags": []
     },
     "output_type": "execute_result"
    }
   ],
   "source": [
    "#let's see the shape of our dataset\n",
    "ted_talks.shape"
   ]
  },
  {
   "cell_type": "code",
   "execution_count": 0,
   "metadata": {
    "colab": {
     "base_uri": "https://localhost:8080/",
     "height": 323
    },
    "colab_type": "code",
    "executionInfo": {
     "elapsed": 402,
     "status": "ok",
     "timestamp": 1561955359460,
     "user": {
      "displayName": "Logan Sargsyan",
      "photoUrl": "https://lh6.googleusercontent.com/-V3eYAGniEto/AAAAAAAAAAI/AAAAAAAAAAo/nyxhhsTEK-4/s64/photo.jpg",
      "userId": "10474557382787208514"
     },
     "user_tz": 420
    },
    "id": "iMW9y9iMWhgJ",
    "outputId": "0a7ac936-38fa-4fd8-c22f-7c670faea46e"
   },
   "outputs": [
    {
     "data": {
      "text/plain": [
       "comments               int64\n",
       "description           object\n",
       "duration               int64\n",
       "event                 object\n",
       "film_date              int64\n",
       "languages              int64\n",
       "main_speaker          object\n",
       "name                  object\n",
       "num_speaker            int64\n",
       "published_date         int64\n",
       "ratings               object\n",
       "related_talks         object\n",
       "speaker_occupation    object\n",
       "tags                  object\n",
       "title                 object\n",
       "url                   object\n",
       "views                  int64\n",
       "dtype: object"
      ]
     },
     "execution_count": 18,
     "metadata": {
      "tags": []
     },
     "output_type": "execute_result"
    }
   ],
   "source": [
    "#now let's see data type for each column\n",
    "ted_talks.dtypes"
   ]
  },
  {
   "cell_type": "code",
   "execution_count": 0,
   "metadata": {
    "colab": {
     "base_uri": "https://localhost:8080/",
     "height": 323
    },
    "colab_type": "code",
    "executionInfo": {
     "elapsed": 334,
     "status": "ok",
     "timestamp": 1561955490889,
     "user": {
      "displayName": "Logan Sargsyan",
      "photoUrl": "https://lh6.googleusercontent.com/-V3eYAGniEto/AAAAAAAAAAI/AAAAAAAAAAo/nyxhhsTEK-4/s64/photo.jpg",
      "userId": "10474557382787208514"
     },
     "user_tz": 420
    },
    "id": "5werYSiFKvSY",
    "outputId": "323a3839-fef8-4395-eef8-62c20a26af32"
   },
   "outputs": [
    {
     "data": {
      "text/plain": [
       "comments              False\n",
       "description           False\n",
       "duration              False\n",
       "event                 False\n",
       "film_date             False\n",
       "languages             False\n",
       "main_speaker          False\n",
       "name                  False\n",
       "num_speaker           False\n",
       "published_date        False\n",
       "ratings               False\n",
       "related_talks         False\n",
       "speaker_occupation     True\n",
       "tags                  False\n",
       "title                 False\n",
       "url                   False\n",
       "views                 False\n",
       "dtype: bool"
      ]
     },
     "execution_count": 22,
     "metadata": {
      "tags": []
     },
     "output_type": "execute_result"
    }
   ],
   "source": [
    "#lets check for columns with missing values\n",
    "ted_talks.isnull().any()"
   ]
  },
  {
   "cell_type": "code",
   "execution_count": 0,
   "metadata": {
    "colab": {
     "base_uri": "https://localhost:8080/",
     "height": 34
    },
    "colab_type": "code",
    "executionInfo": {
     "elapsed": 561,
     "status": "ok",
     "timestamp": 1561956374696,
     "user": {
      "displayName": "Logan Sargsyan",
      "photoUrl": "https://lh6.googleusercontent.com/-V3eYAGniEto/AAAAAAAAAAI/AAAAAAAAAAo/nyxhhsTEK-4/s64/photo.jpg",
      "userId": "10474557382787208514"
     },
     "user_tz": 420
    },
    "id": "X_ZaEVcjxYtf",
    "outputId": "23a4e199-7ac2-412f-83f9-e3453c1b8f19"
   },
   "outputs": [
    {
     "data": {
      "text/plain": [
       "(2550, 16)"
      ]
     },
     "execution_count": 25,
     "metadata": {
      "tags": []
     },
     "output_type": "execute_result"
    }
   ],
   "source": [
    "#remove the column that contains missing values\n",
    "ted_talks.drop(\"speaker_occupation\", axis = 1, inplace = True)\n",
    "ted_talks.shape"
   ]
  },
  {
   "cell_type": "markdown",
   "metadata": {
    "colab_type": "text",
    "id": "Y85iiP_T4ITh"
   },
   "source": [
    "**Descriptive Statistics**"
   ]
  },
  {
   "cell_type": "code",
   "execution_count": 0,
   "metadata": {
    "colab": {
     "base_uri": "https://localhost:8080/",
     "height": 170
    },
    "colab_type": "code",
    "executionInfo": {
     "elapsed": 311,
     "status": "ok",
     "timestamp": 1561956831085,
     "user": {
      "displayName": "Logan Sargsyan",
      "photoUrl": "https://lh6.googleusercontent.com/-V3eYAGniEto/AAAAAAAAAAI/AAAAAAAAAAo/nyxhhsTEK-4/s64/photo.jpg",
      "userId": "10474557382787208514"
     },
     "user_tz": 420
    },
    "id": "UiSSQySvyIDa",
    "outputId": "24832cd3-527a-4810-f494-045ecca5cebe"
   },
   "outputs": [
    {
     "data": {
      "text/plain": [
       "count    2550.000000\n",
       "mean      191.562353\n",
       "std       282.315223\n",
       "min         2.000000\n",
       "25%        63.000000\n",
       "50%       118.000000\n",
       "75%       221.750000\n",
       "max      6404.000000\n",
       "Name: comments, dtype: float64"
      ]
     },
     "execution_count": 27,
     "metadata": {
      "tags": []
     },
     "output_type": "execute_result"
    }
   ],
   "source": [
    "#let's see how comments are distributed\n",
    "ted_talks[\"comments\"].describe()"
   ]
  },
  {
   "cell_type": "code",
   "execution_count": 0,
   "metadata": {
    "colab": {
     "base_uri": "https://localhost:8080/",
     "height": 34
    },
    "colab_type": "code",
    "executionInfo": {
     "elapsed": 326,
     "status": "ok",
     "timestamp": 1561958784015,
     "user": {
      "displayName": "Logan Sargsyan",
      "photoUrl": "https://lh6.googleusercontent.com/-V3eYAGniEto/AAAAAAAAAAI/AAAAAAAAAAo/nyxhhsTEK-4/s64/photo.jpg",
      "userId": "10474557382787208514"
     },
     "user_tz": 420
    },
    "id": "3KPrAUgH4bVl",
    "outputId": "3514a0ea-44a8-4266-a504-7d1730080b59"
   },
   "outputs": [
    {
     "data": {
      "text/plain": [
       "191.56235294117647"
      ]
     },
     "execution_count": 29,
     "metadata": {
      "tags": []
     },
     "output_type": "execute_result"
    }
   ],
   "source": [
    "#we can access this values separately as well\n",
    "ted_talks[\"comments\"].mean()"
   ]
  },
  {
   "cell_type": "code",
   "execution_count": 0,
   "metadata": {
    "colab": {
     "base_uri": "https://localhost:8080/",
     "height": 34
    },
    "colab_type": "code",
    "executionInfo": {
     "elapsed": 319,
     "status": "ok",
     "timestamp": 1561958811358,
     "user": {
      "displayName": "Logan Sargsyan",
      "photoUrl": "https://lh6.googleusercontent.com/-V3eYAGniEto/AAAAAAAAAAI/AAAAAAAAAAo/nyxhhsTEK-4/s64/photo.jpg",
      "userId": "10474557382787208514"
     },
     "user_tz": 420
    },
    "id": "BouayHfO_eMp",
    "outputId": "0cae1d48-3682-4bf0-c81a-ea3cb8592f1e"
   },
   "outputs": [
    {
     "data": {
      "text/plain": [
       "282.3152232572839"
      ]
     },
     "execution_count": 30,
     "metadata": {
      "tags": []
     },
     "output_type": "execute_result"
    }
   ],
   "source": [
    "ted_talks[\"comments\"].std()"
   ]
  },
  {
   "cell_type": "code",
   "execution_count": 0,
   "metadata": {
    "colab": {
     "base_uri": "https://localhost:8080/",
     "height": 51
    },
    "colab_type": "code",
    "executionInfo": {
     "elapsed": 393,
     "status": "ok",
     "timestamp": 1561958894603,
     "user": {
      "displayName": "Logan Sargsyan",
      "photoUrl": "https://lh6.googleusercontent.com/-V3eYAGniEto/AAAAAAAAAAI/AAAAAAAAAAo/nyxhhsTEK-4/s64/photo.jpg",
      "userId": "10474557382787208514"
     },
     "user_tz": 420
    },
    "id": "ElBR2tSgAAVK",
    "outputId": "3f1f6a69-655a-4483-8ea2-f19d0315e1a3"
   },
   "outputs": [
    {
     "data": {
      "text/plain": [
       "0    45\n",
       "dtype: int64"
      ]
     },
     "execution_count": 31,
     "metadata": {
      "tags": []
     },
     "output_type": "execute_result"
    }
   ],
   "source": [
    "ted_talks[\"comments\"].mode()"
   ]
  },
  {
   "cell_type": "code",
   "execution_count": 0,
   "metadata": {
    "colab": {
     "base_uri": "https://localhost:8080/",
     "height": 34
    },
    "colab_type": "code",
    "executionInfo": {
     "elapsed": 350,
     "status": "ok",
     "timestamp": 1561958985434,
     "user": {
      "displayName": "Logan Sargsyan",
      "photoUrl": "https://lh6.googleusercontent.com/-V3eYAGniEto/AAAAAAAAAAI/AAAAAAAAAAo/nyxhhsTEK-4/s64/photo.jpg",
      "userId": "10474557382787208514"
     },
     "user_tz": 420
    },
    "id": "z1mEpETiAUo1",
    "outputId": "638b5dde-7671-43c7-e778-934e8d687c70"
   },
   "outputs": [
    {
     "data": {
      "text/plain": [
       "6404"
      ]
     },
     "execution_count": 32,
     "metadata": {
      "tags": []
     },
     "output_type": "execute_result"
    }
   ],
   "source": [
    "ted_talks[\"comments\"].max()"
   ]
  },
  {
   "cell_type": "code",
   "execution_count": 0,
   "metadata": {
    "colab": {
     "base_uri": "https://localhost:8080/",
     "height": 34
    },
    "colab_type": "code",
    "executionInfo": {
     "elapsed": 371,
     "status": "ok",
     "timestamp": 1561959635624,
     "user": {
      "displayName": "Logan Sargsyan",
      "photoUrl": "https://lh6.googleusercontent.com/-V3eYAGniEto/AAAAAAAAAAI/AAAAAAAAAAo/nyxhhsTEK-4/s64/photo.jpg",
      "userId": "10474557382787208514"
     },
     "user_tz": 420
    },
    "id": "klKovXr2Aq0v",
    "outputId": "efedcaca-e3e8-4efc-b4bb-44c322e8325c"
   },
   "outputs": [
    {
     "data": {
      "text/plain": [
       "False"
      ]
     },
     "execution_count": 43,
     "metadata": {
      "tags": []
     },
     "output_type": "execute_result"
    }
   ],
   "source": [
    "#we also can use filters\n",
    "filter_1 = ted_talks[\"views\"] < 1000\n",
    "filter_1.any()"
   ]
  },
  {
   "cell_type": "code",
   "execution_count": 0,
   "metadata": {
    "colab": {
     "base_uri": "https://localhost:8080/",
     "height": 34
    },
    "colab_type": "code",
    "executionInfo": {
     "elapsed": 361,
     "status": "ok",
     "timestamp": 1561959690109,
     "user": {
      "displayName": "Logan Sargsyan",
      "photoUrl": "https://lh6.googleusercontent.com/-V3eYAGniEto/AAAAAAAAAAI/AAAAAAAAAAo/nyxhhsTEK-4/s64/photo.jpg",
      "userId": "10474557382787208514"
     },
     "user_tz": 420
    },
    "id": "eCJBlHSYAwyp",
    "outputId": "74fd933c-e325-4ebc-b577-213ae65fca07"
   },
   "outputs": [
    {
     "data": {
      "text/plain": [
       "True"
      ]
     },
     "execution_count": 45,
     "metadata": {
      "tags": []
     },
     "output_type": "execute_result"
    }
   ],
   "source": [
    "filter_2 = ted_talks[\"views\"] >= 1000\n",
    "filter_2.all()"
   ]
  },
  {
   "cell_type": "code",
   "execution_count": 0,
   "metadata": {
    "colab": {},
    "colab_type": "code",
    "id": "j18-F3M8Cc-v"
   },
   "outputs": [],
   "source": []
  }
 ],
 "metadata": {
  "colab": {
   "name": "lesson1_pandas.ipynb",
   "provenance": [],
   "version": "0.3.2"
  },
  "kernelspec": {
   "display_name": "Python 3",
   "language": "python",
   "name": "python3"
  },
  "language_info": {
   "codemirror_mode": {
    "name": "ipython",
    "version": 3
   },
   "file_extension": ".py",
   "mimetype": "text/x-python",
   "name": "python",
   "nbconvert_exporter": "python",
   "pygments_lexer": "ipython3",
   "version": "3.6.7"
  }
 },
 "nbformat": 4,
 "nbformat_minor": 1
}
