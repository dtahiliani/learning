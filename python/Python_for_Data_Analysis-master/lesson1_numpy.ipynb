{
 "cells": [
  {
   "cell_type": "markdown",
   "metadata": {
    "colab_type": "text",
    "id": "W5A_oxJ748uE"
   },
   "source": [
    "# NumPy\n",
    " \n",
    " NumPy(Numerical Python) is a linear alegbra library in Python. Why learning NumPy is important:\n",
    " \n",
    "\n",
    "*    NumPy is very useful for performing mathematical and logical operations on Arrays. \n",
    "\n",
    "*    NumPy provides an abundance of useful features for operations on n-arrays and matrices in Python. \n",
    "\n",
    "*   NumPy is a very important library on which almost every data science or machine learning Python packages such as SciPy(Scientific Python), Mat-plotlib(plotting library), Scikit-learn, etc depends on to a reasonable extent.\n"
   ]
  },
  {
   "cell_type": "markdown",
   "metadata": {
    "colab_type": "text",
    "id": "PCCcwgr4cqx7"
   },
   "source": [
    "**How to create 1D  (Rank 1) numpy array**"
   ]
  },
  {
   "cell_type": "code",
   "execution_count": 4,
   "metadata": {
    "colab": {
     "base_uri": "https://localhost:8080/",
     "height": 34
    },
    "colab_type": "code",
    "executionInfo": {
     "elapsed": 293,
     "status": "ok",
     "timestamp": 1565122082945,
     "user": {
      "displayName": "Sumana R Krishnan",
      "photoUrl": "https://lh3.googleusercontent.com/a-/AAuE7mBpUNjFfbwiWFQAJbCCIKFapg1dDnxsI_ODxut1DYM=s64",
      "userId": "14344299311802225718"
     },
     "user_tz": 420
    },
    "id": "coj6OTuolnhL",
    "outputId": "b5c16a74-ef2f-4524-89d7-0327713f2a41"
   },
   "outputs": [
    {
     "name": "stdout",
     "output_type": "stream",
     "text": [
      "NumPy version - 1.15.4\n"
     ]
    }
   ],
   "source": [
    "#import numpy as np to save us from having to type numpy every single time\n",
    "import numpy as np\n",
    "\n",
    "print (\"NumPy version - \" + np.version.version)"
   ]
  },
  {
   "cell_type": "code",
   "execution_count": 25,
   "metadata": {
    "colab": {
     "base_uri": "https://localhost:8080/",
     "height": 34
    },
    "colab_type": "code",
    "executionInfo": {
     "elapsed": 337,
     "status": "ok",
     "timestamp": 1565122536918,
     "user": {
      "displayName": "Sumana R Krishnan",
      "photoUrl": "https://lh3.googleusercontent.com/a-/AAuE7mBpUNjFfbwiWFQAJbCCIKFapg1dDnxsI_ODxut1DYM=s64",
      "userId": "14344299311802225718"
     },
     "user_tz": 420
    },
    "id": "WG6IXUU1mRh3",
    "outputId": "7feb7e29-d00a-43d9-fe89-5918ca511a22"
   },
   "outputs": [
    {
     "name": "stdout",
     "output_type": "stream",
     "text": [
      "[1 2 3 4 5]\n"
     ]
    }
   ],
   "source": [
    "#create 1D numpy array from a list\n",
    "array_1d = np.array([1, 2, 3, 4, 5])\n",
    "\n",
    "print (array_1d)"
   ]
  },
  {
   "cell_type": "code",
   "execution_count": 14,
   "metadata": {
    "colab": {
     "base_uri": "https://localhost:8080/",
     "height": 34
    },
    "colab_type": "code",
    "executionInfo": {
     "elapsed": 339,
     "status": "ok",
     "timestamp": 1565122380586,
     "user": {
      "displayName": "Sumana R Krishnan",
      "photoUrl": "https://lh3.googleusercontent.com/a-/AAuE7mBpUNjFfbwiWFQAJbCCIKFapg1dDnxsI_ODxut1DYM=s64",
      "userId": "14344299311802225718"
     },
     "user_tz": 420
    },
    "id": "e0KAKjKvYssT",
    "outputId": "ae0fd240-3039-4524-991a-04c9b213cb24"
   },
   "outputs": [
    {
     "name": "stdout",
     "output_type": "stream",
     "text": [
      "[11 22 33 44 55]\n"
     ]
    }
   ],
   "source": [
    "#create 1D numpy array from a list variable\n",
    "list_1 = [11, 22, 33, 44, 55]\n",
    "array_l1 = np.array(list_1)\n",
    "\n",
    "print(array_l1)"
   ]
  },
  {
   "cell_type": "code",
   "execution_count": 2,
   "metadata": {
    "colab": {
     "base_uri": "https://localhost:8080/",
     "height": 51
    },
    "colab_type": "code",
    "executionInfo": {
     "elapsed": 358,
     "status": "ok",
     "timestamp": 1565122441843,
     "user": {
      "displayName": "Sumana R Krishnan",
      "photoUrl": "https://lh3.googleusercontent.com/a-/AAuE7mBpUNjFfbwiWFQAJbCCIKFapg1dDnxsI_ODxut1DYM=s64",
      "userId": "14344299311802225718"
     },
     "user_tz": 420
    },
    "id": "7rtys8vBYtzR",
    "outputId": "44f674b3-bd1a-4ea0-8153-7518b80f229c"
   },
   "outputs": [
    {
     "ename": "NameError",
     "evalue": "name 'array_1d' is not defined",
     "output_type": "error",
     "traceback": [
      "\u001b[0;31m---------------------------------------------------------------------------\u001b[0m",
      "\u001b[0;31mNameError\u001b[0m                                 Traceback (most recent call last)",
      "\u001b[0;32m<ipython-input-2-781585d83882>\u001b[0m in \u001b[0;36m<module>\u001b[0;34m\u001b[0m\n\u001b[1;32m      1\u001b[0m \u001b[0;31m#print the type of an numpy array we created\u001b[0m\u001b[0;34m\u001b[0m\u001b[0;34m\u001b[0m\u001b[0;34m\u001b[0m\u001b[0m\n\u001b[0;32m----> 2\u001b[0;31m \u001b[0mprint\u001b[0m \u001b[0;34m(\u001b[0m\u001b[0;34m\"Array type = \"\u001b[0m \u001b[0;34m+\u001b[0m \u001b[0mstr\u001b[0m\u001b[0;34m(\u001b[0m\u001b[0mtype\u001b[0m\u001b[0;34m(\u001b[0m\u001b[0marray_1d\u001b[0m\u001b[0;34m)\u001b[0m\u001b[0;34m)\u001b[0m\u001b[0;34m)\u001b[0m\u001b[0;34m\u001b[0m\u001b[0;34m\u001b[0m\u001b[0m\n\u001b[0m\u001b[1;32m      3\u001b[0m \u001b[0;34m\u001b[0m\u001b[0m\n\u001b[1;32m      4\u001b[0m \u001b[0;31m#print the data type\u001b[0m\u001b[0;34m\u001b[0m\u001b[0;34m\u001b[0m\u001b[0;34m\u001b[0m\u001b[0m\n\u001b[1;32m      5\u001b[0m \u001b[0mprint\u001b[0m \u001b[0;34m(\u001b[0m\u001b[0;34m\"Data type = \"\u001b[0m \u001b[0;34m+\u001b[0m \u001b[0mstr\u001b[0m\u001b[0;34m(\u001b[0m\u001b[0marray_1d\u001b[0m\u001b[0;34m.\u001b[0m\u001b[0mdtype\u001b[0m\u001b[0;34m)\u001b[0m\u001b[0;34m)\u001b[0m\u001b[0;34m\u001b[0m\u001b[0;34m\u001b[0m\u001b[0m\n",
      "\u001b[0;31mNameError\u001b[0m: name 'array_1d' is not defined"
     ]
    }
   ],
   "source": [
    "#print the type of an numpy array we created\n",
    "print (\"Array type = \" + str(type(array_1d)))\n",
    "\n",
    "#print the data type \n",
    "print (\"Data type = \" + str(array_1d.dtype))"
   ]
  },
  {
   "cell_type": "code",
   "execution_count": 19,
   "metadata": {
    "colab": {
     "base_uri": "https://localhost:8080/",
     "height": 34
    },
    "colab_type": "code",
    "executionInfo": {
     "elapsed": 308,
     "status": "ok",
     "timestamp": 1565122458746,
     "user": {
      "displayName": "Sumana R Krishnan",
      "photoUrl": "https://lh3.googleusercontent.com/a-/AAuE7mBpUNjFfbwiWFQAJbCCIKFapg1dDnxsI_ODxut1DYM=s64",
      "userId": "14344299311802225718"
     },
     "user_tz": 420
    },
    "id": "ZS_g0ZfCY_Uu",
    "outputId": "1777e7c4-19b1-4ae2-becd-d5c5e9c62f8c"
   },
   "outputs": [
    {
     "name": "stdout",
     "output_type": "stream",
     "text": [
      "(5,)\n"
     ]
    }
   ],
   "source": [
    "#check the shape of the ndarray we created, it should have only 1 dimension\n",
    "print(array_1d.shape)"
   ]
  },
  {
   "cell_type": "markdown",
   "metadata": {
    "colab_type": "text",
    "id": "HVjxGaocbH1l"
   },
   "source": [
    "**How to create 2D (Rank 2) numpy arrays**\n",
    "\n",
    "2 dimensional arrays are great for representing matrices wich are often used in data science"
   ]
  },
  {
   "cell_type": "code",
   "execution_count": 27,
   "metadata": {
    "colab": {
     "base_uri": "https://localhost:8080/",
     "height": 68
    },
    "colab_type": "code",
    "executionInfo": {
     "elapsed": 347,
     "status": "ok",
     "timestamp": 1565122557771,
     "user": {
      "displayName": "Sumana R Krishnan",
      "photoUrl": "https://lh3.googleusercontent.com/a-/AAuE7mBpUNjFfbwiWFQAJbCCIKFapg1dDnxsI_ODxut1DYM=s64",
      "userId": "14344299311802225718"
     },
     "user_tz": 420
    },
    "id": "6TV4q7uBab2a",
    "outputId": "ebd67da5-cc49-4477-fdbb-ed15d76db332"
   },
   "outputs": [
    {
     "name": "stdout",
     "output_type": "stream",
     "text": [
      "[[ 1  2  3  4  5]\n",
      " [11 22 33 44 55]]\n"
     ]
    },
    {
     "data": {
      "text/plain": [
       "(2, 5)"
      ]
     },
     "execution_count": 27,
     "metadata": {
      "tags": []
     },
     "output_type": "execute_result"
    }
   ],
   "source": [
    "#create 2D numpy array\n",
    "array_2 = np.array([[1, 2, 3, 4, 5], [11, 22, 33, 44, 55]])\n",
    "\n",
    "#print the array and the shape, shape should be 2 rows and 5 columns\n",
    "print (array_2)\n",
    "array_2.shape"
   ]
  },
  {
   "cell_type": "code",
   "execution_count": 5,
   "metadata": {
    "colab": {
     "base_uri": "https://localhost:8080/",
     "height": 51
    },
    "colab_type": "code",
    "executionInfo": {
     "elapsed": 357,
     "status": "ok",
     "timestamp": 1565122689486,
     "user": {
      "displayName": "Sumana R Krishnan",
      "photoUrl": "https://lh3.googleusercontent.com/a-/AAuE7mBpUNjFfbwiWFQAJbCCIKFapg1dDnxsI_ODxut1DYM=s64",
      "userId": "14344299311802225718"
     },
     "user_tz": 420
    },
    "id": "Q2N5Xzehk931",
    "outputId": "aabda3e5-4d0c-4947-fd81-04fade3473b8"
   },
   "outputs": [
    {
     "name": "stdout",
     "output_type": "stream",
     "text": [
      "[list([1, 2, 3, 4, 5]) list([11, 22, 33, 44])]\n"
     ]
    },
    {
     "data": {
      "text/plain": [
       "(2,)"
      ]
     },
     "execution_count": 5,
     "metadata": {},
     "output_type": "execute_result"
    }
   ],
   "source": [
    "#what happens if the lists passed to np.array has different lengths?\n",
    "\n",
    "#create 2D numpy array\n",
    "array_difflengths = np.array([[1, 2, 3, 4, 5], [11, 22, 33, 44]])\n",
    "\n",
    "#print the array and the shape, shape should be 2 rows\n",
    "print (array_difflengths)\n",
    "array_difflengths.shape"
   ]
  },
  {
   "cell_type": "markdown",
   "metadata": {
    "colab_type": "text",
    "id": "c_gNFE7dsJlS"
   },
   "source": [
    "**Create numpy arrays with different pre-filled values using numpy built in methods**\n",
    "\n",
    "More documentation on Random Sampling at https://docs.scipy.org/doc/numpy-1.16.0/reference/routines.random.html\n"
   ]
  },
  {
   "cell_type": "code",
   "execution_count": 33,
   "metadata": {
    "colab": {
     "base_uri": "https://localhost:8080/",
     "height": 68
    },
    "colab_type": "code",
    "executionInfo": {
     "elapsed": 372,
     "status": "ok",
     "timestamp": 1565124199794,
     "user": {
      "displayName": "Sumana R Krishnan",
      "photoUrl": "https://lh3.googleusercontent.com/a-/AAuE7mBpUNjFfbwiWFQAJbCCIKFapg1dDnxsI_ODxut1DYM=s64",
      "userId": "14344299311802225718"
     },
     "user_tz": 420
    },
    "id": "TE-DX3XUd-zI",
    "outputId": "db7f3fd9-02dc-445b-81b1-c3f69f7c6be2"
   },
   "outputs": [
    {
     "name": "stdout",
     "output_type": "stream",
     "text": [
      "[[0. 0. 0.]\n",
      " [0. 0. 0.]\n",
      " [0. 0. 0.]]\n"
     ]
    }
   ],
   "source": [
    "#create 3x3 array filled with zeros\n",
    "array_0 = np.zeros((3, 3))\n",
    "\n",
    "print (array_0)"
   ]
  },
  {
   "cell_type": "code",
   "execution_count": 34,
   "metadata": {
    "colab": {
     "base_uri": "https://localhost:8080/",
     "height": 51
    },
    "colab_type": "code",
    "executionInfo": {
     "elapsed": 392,
     "status": "ok",
     "timestamp": 1565125115596,
     "user": {
      "displayName": "Sumana R Krishnan",
      "photoUrl": "https://lh3.googleusercontent.com/a-/AAuE7mBpUNjFfbwiWFQAJbCCIKFapg1dDnxsI_ODxut1DYM=s64",
      "userId": "14344299311802225718"
     },
     "user_tz": 420
    },
    "id": "ZBlF5CeWnKq2",
    "outputId": "1a006c5e-9fcf-4278-d41f-d046d6cc8a44"
   },
   "outputs": [
    {
     "name": "stdout",
     "output_type": "stream",
     "text": [
      "[[8. 8.]\n",
      " [8. 8.]]\n"
     ]
    }
   ],
   "source": [
    "#create 2x2 array filled with 8.0\n",
    "array_8 = np.full((2, 2), 8.0)\n",
    "\n",
    "print (array_8)"
   ]
  },
  {
   "cell_type": "code",
   "execution_count": 35,
   "metadata": {
    "colab": {
     "base_uri": "https://localhost:8080/",
     "height": 51
    },
    "colab_type": "code",
    "executionInfo": {
     "elapsed": 337,
     "status": "ok",
     "timestamp": 1565125119950,
     "user": {
      "displayName": "Sumana R Krishnan",
      "photoUrl": "https://lh3.googleusercontent.com/a-/AAuE7mBpUNjFfbwiWFQAJbCCIKFapg1dDnxsI_ODxut1DYM=s64",
      "userId": "14344299311802225718"
     },
     "user_tz": 420
    },
    "id": "EHk7gHnPnX_P",
    "outputId": "a0d0900c-9b02-4a90-f495-091f109d06f3"
   },
   "outputs": [
    {
     "name": "stdout",
     "output_type": "stream",
     "text": [
      "[[1. 1. 1.]\n",
      " [1. 1. 1.]]\n"
     ]
    }
   ],
   "source": [
    "#create 2x3 array of ones \n",
    "array_1 = np.ones((2, 3))\n",
    "\n",
    "print (array_1)"
   ]
  },
  {
   "cell_type": "code",
   "execution_count": 36,
   "metadata": {
    "colab": {
     "base_uri": "https://localhost:8080/",
     "height": 85
    },
    "colab_type": "code",
    "executionInfo": {
     "elapsed": 419,
     "status": "ok",
     "timestamp": 1565125121564,
     "user": {
      "displayName": "Sumana R Krishnan",
      "photoUrl": "https://lh3.googleusercontent.com/a-/AAuE7mBpUNjFfbwiWFQAJbCCIKFapg1dDnxsI_ODxut1DYM=s64",
      "userId": "14344299311802225718"
     },
     "user_tz": 420
    },
    "id": "gXCi3VW7vJ1g",
    "outputId": "6142cd6e-7be4-4dcf-d4f3-0ce6c657731b"
   },
   "outputs": [
    {
     "name": "stdout",
     "output_type": "stream",
     "text": [
      "[[1. 0. 0. 0.]\n",
      " [0. 1. 0. 0.]\n",
      " [0. 0. 1. 0.]\n",
      " [0. 0. 0. 1.]]\n"
     ]
    }
   ],
   "source": [
    "#create 4x4 matrix with diagonal 1s and the others 0 (identity matrix)\n",
    "array_d = np.eye(4, 4)\n",
    "\n",
    "print (array_d)"
   ]
  },
  {
   "cell_type": "code",
   "execution_count": 37,
   "metadata": {
    "colab": {
     "base_uri": "https://localhost:8080/",
     "height": 68
    },
    "colab_type": "code",
    "executionInfo": {
     "elapsed": 332,
     "status": "ok",
     "timestamp": 1565125124105,
     "user": {
      "displayName": "Sumana R Krishnan",
      "photoUrl": "https://lh3.googleusercontent.com/a-/AAuE7mBpUNjFfbwiWFQAJbCCIKFapg1dDnxsI_ODxut1DYM=s64",
      "userId": "14344299311802225718"
     },
     "user_tz": 420
    },
    "id": "PW0HWuE4we3s",
    "outputId": "eb812cd8-9be8-4ba2-c17c-6cfc9949bf2c"
   },
   "outputs": [
    {
     "name": "stdout",
     "output_type": "stream",
     "text": [
      "[[0.01043611 0.30495656 0.93509598 0.4348673 ]\n",
      " [0.49063913 0.56403399 0.31410731 0.62669247]\n",
      " [0.25507215 0.99611864 0.59528836 0.5791938 ]]\n"
     ]
    }
   ],
   "source": [
    "#create an array of random floats between 0 and 1 of (3, 4) shape\n",
    "array_r = np.random.random((3, 4))\n",
    "\n",
    "print (array_r)"
   ]
  },
  {
   "cell_type": "code",
   "execution_count": 38,
   "metadata": {
    "colab": {
     "base_uri": "https://localhost:8080/",
     "height": 102
    },
    "colab_type": "code",
    "executionInfo": {
     "elapsed": 295,
     "status": "ok",
     "timestamp": 1565125125543,
     "user": {
      "displayName": "Sumana R Krishnan",
      "photoUrl": "https://lh3.googleusercontent.com/a-/AAuE7mBpUNjFfbwiWFQAJbCCIKFapg1dDnxsI_ODxut1DYM=s64",
      "userId": "14344299311802225718"
     },
     "user_tz": 420
    },
    "id": "bsXvzNtcw0gV",
    "outputId": "d4078257-ad9b-4ad9-c8db-7b6f213b0220"
   },
   "outputs": [
    {
     "name": "stdout",
     "output_type": "stream",
     "text": [
      "[[6 4]\n",
      " [6 4]] \n",
      "\n",
      "[[7 6]\n",
      " [7 0]]\n"
     ]
    }
   ],
   "source": [
    "#create an array filled with random integers from 0 to 10\n",
    "array_i = np.random.randint(low = 1, high = 10, size = (2, 2))\n",
    "print (array_i, '\\n')\n",
    "\n",
    "#the above is the same as this\n",
    "array_i1 = np.random.randint(0, 10, (2, 2))\n",
    "print (array_i1)"
   ]
  },
  {
   "cell_type": "markdown",
   "metadata": {
    "colab_type": "text",
    "id": "nhBPaAhy230w"
   },
   "source": [
    "**Indexing, Slice indexing**\n",
    "\n",
    "We can use slice indexing to pull out sub-regions of ndarrays\n",
    "\n",
    "More documentation can be found at https://docs.scipy.org/doc/numpy/reference/arrays.indexing.html\n"
   ]
  },
  {
   "cell_type": "code",
   "execution_count": 6,
   "metadata": {
    "colab": {
     "base_uri": "https://localhost:8080/",
     "height": 34
    },
    "colab_type": "code",
    "executionInfo": {
     "elapsed": 255,
     "status": "ok",
     "timestamp": 1565125269742,
     "user": {
      "displayName": "Sumana R Krishnan",
      "photoUrl": "https://lh3.googleusercontent.com/a-/AAuE7mBpUNjFfbwiWFQAJbCCIKFapg1dDnxsI_ODxut1DYM=s64",
      "userId": "14344299311802225718"
     },
     "user_tz": 420
    },
    "id": "w_mA5e-_zx1S",
    "outputId": "48462d11-ef85-4605-95f8-900dbce31154"
   },
   "outputs": [
    {
     "name": "stdout",
     "output_type": "stream",
     "text": [
      "[1 2 3 4 5 6 7]\n"
     ]
    }
   ],
   "source": [
    "#create 1D array\n",
    "array_1d = np.array([1, 2, 3, 4, 5, 6, 7])\n",
    "print (array_1d)"
   ]
  },
  {
   "cell_type": "code",
   "execution_count": 8,
   "metadata": {
    "colab": {
     "base_uri": "https://localhost:8080/",
     "height": 51
    },
    "colab_type": "code",
    "executionInfo": {
     "elapsed": 308,
     "status": "ok",
     "timestamp": 1565125270913,
     "user": {
      "displayName": "Sumana R Krishnan",
      "photoUrl": "https://lh3.googleusercontent.com/a-/AAuE7mBpUNjFfbwiWFQAJbCCIKFapg1dDnxsI_ODxut1DYM=s64",
      "userId": "14344299311802225718"
     },
     "user_tz": 420
    },
    "id": "GkeEqS-m74mc",
    "outputId": "a093317e-62e7-46dc-ea70-5c4783e76add"
   },
   "outputs": [
    {
     "name": "stdout",
     "output_type": "stream",
     "text": [
      "element at index 2:  10\n",
      "element at index 2 after change:  10\n"
     ]
    }
   ],
   "source": [
    "#because we have 1D array, we need only one index to access element at any position\n",
    "#call the value at index 2\n",
    "print ('element at index 2: ', array_1d[2])\n",
    "\n",
    "#ndarrays are mutable, here we change an element at index 2 \n",
    "array_1d[2] = 10\n",
    "print ('element at index 2 after change: ', array_1d[2])\n"
   ]
  },
  {
   "cell_type": "code",
   "execution_count": 9,
   "metadata": {
    "colab": {
     "base_uri": "https://localhost:8080/",
     "height": 51
    },
    "colab_type": "code",
    "executionInfo": {
     "elapsed": 343,
     "status": "ok",
     "timestamp": 1565125286798,
     "user": {
      "displayName": "Sumana R Krishnan",
      "photoUrl": "https://lh3.googleusercontent.com/a-/AAuE7mBpUNjFfbwiWFQAJbCCIKFapg1dDnxsI_ODxut1DYM=s64",
      "userId": "14344299311802225718"
     },
     "user_tz": 420
    },
    "id": "DFuHMPs_8n-_",
    "outputId": "adfb631d-0ee4-424d-da2d-4327e3a3e9ac"
   },
   "outputs": [
    {
     "name": "stdout",
     "output_type": "stream",
     "text": [
      "elements in the range:  [ 2 10]\n",
      "elements in the range after change:  [10 10]\n"
     ]
    }
   ],
   "source": [
    "#get the values in the range\n",
    "print ('elements in the range: ', array_1d[1:3]) #a:b - including a, until (and excluding) b\n",
    "\n",
    "#we can change values in the range as well\n",
    "array_1d[1:3] = 10\n",
    "print ('elements in the range after change: ', array_1d[1:3])"
   ]
  },
  {
   "cell_type": "code",
   "execution_count": 10,
   "metadata": {
    "colab": {
     "base_uri": "https://localhost:8080/",
     "height": 136
    },
    "colab_type": "code",
    "executionInfo": {
     "elapsed": 498,
     "status": "ok",
     "timestamp": 1565125472386,
     "user": {
      "displayName": "Sumana R Krishnan",
      "photoUrl": "https://lh3.googleusercontent.com/a-/AAuE7mBpUNjFfbwiWFQAJbCCIKFapg1dDnxsI_ODxut1DYM=s64",
      "userId": "14344299311802225718"
     },
     "user_tz": 420
    },
    "id": "Lh9diCus99N6",
    "outputId": "3d3ca11b-4e22-4c31-f510-99939304d322"
   },
   "outputs": [
    {
     "name": "stdout",
     "output_type": "stream",
     "text": [
      "original array: \n",
      " [[11 12 13 14 15 16 17]\n",
      " [21 22 23 24 25 26 27]\n",
      " [31 32 33 34 35 36 37]] \n",
      "\n",
      "sliced array on [1:2, :]: \n",
      " [[21 22 23 24 25 26 27]]\n"
     ]
    }
   ],
   "source": [
    "#for 2D arrays we will need two indexing first one for the row and second one for the column\n",
    "#create 2D array\n",
    "array_2d = np.array([[11, 12, 13, 14, 15, 16, 17], [21, 22, 23, 24, 25, 26, 27], [31, 32, 33, 34, 35, 36, 37]])\n",
    "print ('original array: \\n', array_2d, '\\n')\n",
    "\n",
    "#slicing: generates an array of the same rank\n",
    "slice_row = array_2d[1:2, :] #a:b - including a, until (and excluding) b\n",
    "print ('sliced array on [1:2, :]: \\n', slice_row)"
   ]
  },
  {
   "cell_type": "code",
   "execution_count": 11,
   "metadata": {
    "colab": {
     "base_uri": "https://localhost:8080/",
     "height": 136
    },
    "colab_type": "code",
    "executionInfo": {
     "elapsed": 524,
     "status": "ok",
     "timestamp": 1565125514154,
     "user": {
      "displayName": "Sumana R Krishnan",
      "photoUrl": "https://lh3.googleusercontent.com/a-/AAuE7mBpUNjFfbwiWFQAJbCCIKFapg1dDnxsI_ODxut1DYM=s64",
      "userId": "14344299311802225718"
     },
     "user_tz": 420
    },
    "id": "oEsD7-9ZE-SW",
    "outputId": "7d9567cc-f13a-464b-8134-bf538892b666"
   },
   "outputs": [
    {
     "name": "stdout",
     "output_type": "stream",
     "text": [
      "sliced array: \n",
      " [[10 10 10 10 10 10 10]] \n",
      "\n",
      "original array: \n",
      " [[11 12 13 14 15 16 17]\n",
      " [10 10 10 10 10 10 10]\n",
      " [31 32 33 34 35 36 37]]\n"
     ]
    }
   ],
   "source": [
    "#if we change the sliced array it will changed the original array too\n",
    "slice_row[:, :] = 10\n",
    "\n",
    "print ('sliced array: \\n', slice_row, '\\n')\n",
    "print ('original array: \\n', array_2d)\n"
   ]
  },
  {
   "cell_type": "code",
   "execution_count": 12,
   "metadata": {
    "colab": {
     "base_uri": "https://localhost:8080/",
     "height": 68
    },
    "colab_type": "code",
    "executionInfo": {
     "elapsed": 661,
     "status": "ok",
     "timestamp": 1565125520939,
     "user": {
      "displayName": "Sumana R Krishnan",
      "photoUrl": "https://lh3.googleusercontent.com/a-/AAuE7mBpUNjFfbwiWFQAJbCCIKFapg1dDnxsI_ODxut1DYM=s64",
      "userId": "14344299311802225718"
     },
     "user_tz": 420
    },
    "id": "xGzyxJfhGIzV",
    "outputId": "6fba3237-9668-442e-87f8-5b407bd1a736"
   },
   "outputs": [
    {
     "name": "stdout",
     "output_type": "stream",
     "text": [
      "[[12 13 14 15]\n",
      " [10 10 10 10]\n",
      " [32 33 34 35]]\n"
     ]
    }
   ],
   "source": [
    "#we can do the slicing for columns as well\n",
    "slice_col = array_2d[:, 1:5]\n",
    "print (slice_col)"
   ]
  },
  {
   "cell_type": "code",
   "execution_count": 13,
   "metadata": {
    "colab": {
     "base_uri": "https://localhost:8080/",
     "height": 34
    },
    "colab_type": "code",
    "executionInfo": {
     "elapsed": 321,
     "status": "ok",
     "timestamp": 1565125556563,
     "user": {
      "displayName": "Sumana R Krishnan",
      "photoUrl": "https://lh3.googleusercontent.com/a-/AAuE7mBpUNjFfbwiWFQAJbCCIKFapg1dDnxsI_ODxut1DYM=s64",
      "userId": "14344299311802225718"
     },
     "user_tz": 420
    },
    "id": "LC773zCHJV2b",
    "outputId": "01c7711c-56a4-44a0-fb39-8083e40158d4"
   },
   "outputs": [
    {
     "data": {
      "text/plain": [
       "array([12, 13, 14, 15, 32, 33, 34, 35])"
      ]
     },
     "execution_count": 13,
     "metadata": {},
     "output_type": "execute_result"
    }
   ],
   "source": [
    "#we can use filters to select just those elements which meet certain criteria \n",
    "#select the elements that are greater than 10\n",
    "slice_col[slice_col>10]"
   ]
  },
  {
   "cell_type": "code",
   "execution_count": 14,
   "metadata": {
    "colab": {
     "base_uri": "https://localhost:8080/",
     "height": 68
    },
    "colab_type": "code",
    "executionInfo": {
     "elapsed": 773,
     "status": "ok",
     "timestamp": 1565125558162,
     "user": {
      "displayName": "Sumana R Krishnan",
      "photoUrl": "https://lh3.googleusercontent.com/a-/AAuE7mBpUNjFfbwiWFQAJbCCIKFapg1dDnxsI_ODxut1DYM=s64",
      "userId": "14344299311802225718"
     },
     "user_tz": 420
    },
    "id": "4Jv8NE7aOnIk",
    "outputId": "364a09a3-1703-4fc8-c864-80f96e807729"
   },
   "outputs": [
    {
     "data": {
      "text/plain": [
       "array([[12, 14, 14, 16],\n",
       "       [10, 10, 10, 10],\n",
       "       [32, 34, 34, 36]])"
      ]
     },
     "execution_count": 14,
     "metadata": {},
     "output_type": "execute_result"
    }
   ],
   "source": [
    "#use similar logical filter to change elements in the array\n",
    "#add 1 to all the odd values\n",
    "slice_col[slice_col % 2 == 1] += 1\n",
    "slice_col"
   ]
  },
  {
   "cell_type": "markdown",
   "metadata": {
    "colab_type": "text",
    "id": "kDchGyyFZpWy"
   },
   "source": [
    "**Arithmetic array operations**\n",
    "\n",
    "More documentation at https://docs.scipy.org/doc/numpy-1.13.0/reference/routines.math.html"
   ]
  },
  {
   "cell_type": "code",
   "execution_count": 62,
   "metadata": {
    "colab": {
     "base_uri": "https://localhost:8080/",
     "height": 272
    },
    "colab_type": "code",
    "executionInfo": {
     "elapsed": 316,
     "status": "ok",
     "timestamp": 1565125910885,
     "user": {
      "displayName": "Sumana R Krishnan",
      "photoUrl": "https://lh3.googleusercontent.com/a-/AAuE7mBpUNjFfbwiWFQAJbCCIKFapg1dDnxsI_ODxut1DYM=s64",
      "userId": "14344299311802225718"
     },
     "user_tz": 420
    },
    "id": "9JQsVw46T6xT",
    "outputId": "90b2a3ad-4390-4ed3-b662-3ca4d97dd8d5"
   },
   "outputs": [
    {
     "name": "stdout",
     "output_type": "stream",
     "text": [
      "Array X\n",
      "[[10 20 30]\n",
      " [40 50 60]] \n",
      "\n",
      "Array Y\n",
      "[[11 21 31]\n",
      " [41 51 61]] \n",
      "\n",
      "Direct Addition\n",
      "[[ 21  41  61]\n",
      " [ 81 101 121]] \n",
      "\n",
      "Numpy Addition\n",
      "[[ 21  41  61]\n",
      " [ 81 101 121]]\n"
     ]
    }
   ],
   "source": [
    "#addition can be done with the plus sign or 'add' numpy function\n",
    "arr_x = np.array([[10, 20, 30], [40, 50, 60]])\n",
    "arr_y = np.array([[11, 21, 31], [41, 51, 61]])\n",
    "\n",
    "print(\"Array X\")\n",
    "print(arr_x, '\\n')\n",
    "\n",
    "print(\"Array Y\")\n",
    "print(arr_y, '\\n')\n",
    "\n",
    "print(\"Direct Addition\")\n",
    "print (arr_x + arr_y, '\\n')\n",
    "\n",
    "print(\"Numpy Addition\")\n",
    "print (np.add(arr_x, arr_y))"
   ]
  },
  {
   "cell_type": "code",
   "execution_count": 63,
   "metadata": {
    "colab": {
     "base_uri": "https://localhost:8080/",
     "height": 136
    },
    "colab_type": "code",
    "executionInfo": {
     "elapsed": 759,
     "status": "ok",
     "timestamp": 1565125912441,
     "user": {
      "displayName": "Sumana R Krishnan",
      "photoUrl": "https://lh3.googleusercontent.com/a-/AAuE7mBpUNjFfbwiWFQAJbCCIKFapg1dDnxsI_ODxut1DYM=s64",
      "userId": "14344299311802225718"
     },
     "user_tz": 420
    },
    "id": "q628w2tbbXeY",
    "outputId": "83f952c9-6dc2-43a6-92e5-1be08073ac70"
   },
   "outputs": [
    {
     "name": "stdout",
     "output_type": "stream",
     "text": [
      "Direct Subtraction\n",
      "[[1 1 1]\n",
      " [1 1 1]] \n",
      "\n",
      "Numpy Subtraction\n",
      "[[1 1 1]\n",
      " [1 1 1]]\n"
     ]
    }
   ],
   "source": [
    "#the same is with the subtraction \n",
    "print(\"Direct Subtraction\")\n",
    "print (arr_y - arr_x, '\\n')\n",
    "\n",
    "print(\"Numpy Subtraction\")\n",
    "print (np.subtract(arr_y, arr_x))"
   ]
  },
  {
   "cell_type": "code",
   "execution_count": 64,
   "metadata": {
    "colab": {
     "base_uri": "https://localhost:8080/",
     "height": 136
    },
    "colab_type": "code",
    "executionInfo": {
     "elapsed": 357,
     "status": "ok",
     "timestamp": 1565125914975,
     "user": {
      "displayName": "Sumana R Krishnan",
      "photoUrl": "https://lh3.googleusercontent.com/a-/AAuE7mBpUNjFfbwiWFQAJbCCIKFapg1dDnxsI_ODxut1DYM=s64",
      "userId": "14344299311802225718"
     },
     "user_tz": 420
    },
    "id": "OYh9Vwh_b0lu",
    "outputId": "a7b8d7d4-2b48-423f-e780-8e1e8ccc2da1"
   },
   "outputs": [
    {
     "name": "stdout",
     "output_type": "stream",
     "text": [
      "Direct Multiplication\n",
      "[[ 110  420  930]\n",
      " [1640 2550 3660]] \n",
      "\n",
      "Numpy Multiplication\n",
      "[[ 110  420  930]\n",
      " [1640 2550 3660]]\n"
     ]
    }
   ],
   "source": [
    "#multiplication\n",
    "print(\"Direct Multiplication\")\n",
    "print (arr_x * arr_y, '\\n')\n",
    "\n",
    "print(\"Numpy Multiplication\")\n",
    "print (np.multiply(arr_x, arr_y))"
   ]
  },
  {
   "cell_type": "code",
   "execution_count": 66,
   "metadata": {
    "colab": {
     "base_uri": "https://localhost:8080/",
     "height": 136
    },
    "colab_type": "code",
    "executionInfo": {
     "elapsed": 400,
     "status": "ok",
     "timestamp": 1565125937191,
     "user": {
      "displayName": "Sumana R Krishnan",
      "photoUrl": "https://lh3.googleusercontent.com/a-/AAuE7mBpUNjFfbwiWFQAJbCCIKFapg1dDnxsI_ODxut1DYM=s64",
      "userId": "14344299311802225718"
     },
     "user_tz": 420
    },
    "id": "H1VjVtxFcJ9Q",
    "outputId": "b8e0e40e-dda9-4eac-c6ce-671086bd9333"
   },
   "outputs": [
    {
     "name": "stdout",
     "output_type": "stream",
     "text": [
      "Direct Division\n",
      "[[1.1        1.05       1.03333333]\n",
      " [1.025      1.02       1.01666667]] \n",
      "\n",
      "Numpy Division\n",
      "[[1.1        1.05       1.03333333]\n",
      " [1.025      1.02       1.01666667]]\n"
     ]
    }
   ],
   "source": [
    "#division\n",
    "print(\"Direct Division\")\n",
    "print (arr_y / arr_x, '\\n')\n",
    "\n",
    "print(\"Numpy Division\")\n",
    "print (np.divide(arr_y, arr_x))"
   ]
  },
  {
   "cell_type": "code",
   "execution_count": 67,
   "metadata": {
    "colab": {
     "base_uri": "https://localhost:8080/",
     "height": 51
    },
    "colab_type": "code",
    "executionInfo": {
     "elapsed": 331,
     "status": "ok",
     "timestamp": 1565125943742,
     "user": {
      "displayName": "Sumana R Krishnan",
      "photoUrl": "https://lh3.googleusercontent.com/a-/AAuE7mBpUNjFfbwiWFQAJbCCIKFapg1dDnxsI_ODxut1DYM=s64",
      "userId": "14344299311802225718"
     },
     "user_tz": 420
    },
    "id": "ApgCutcscdy-",
    "outputId": "42ae8847-2823-4794-b06d-5a9ff1b7ed9a"
   },
   "outputs": [
    {
     "name": "stdout",
     "output_type": "stream",
     "text": [
      "[[3.16227766 4.47213595 5.47722558]\n",
      " [6.32455532 7.07106781 7.74596669]]\n"
     ]
    }
   ],
   "source": [
    "#square root\n",
    "\n",
    "print (np.sqrt(arr_x))"
   ]
  },
  {
   "cell_type": "code",
   "execution_count": 68,
   "metadata": {
    "colab": {
     "base_uri": "https://localhost:8080/",
     "height": 51
    },
    "colab_type": "code",
    "executionInfo": {
     "elapsed": 424,
     "status": "ok",
     "timestamp": 1565125948423,
     "user": {
      "displayName": "Sumana R Krishnan",
      "photoUrl": "https://lh3.googleusercontent.com/a-/AAuE7mBpUNjFfbwiWFQAJbCCIKFapg1dDnxsI_ODxut1DYM=s64",
      "userId": "14344299311802225718"
     },
     "user_tz": 420
    },
    "id": "KtDLiaFqcn5i",
    "outputId": "aed36365-7d30-42dc-9c6e-4769e5771958"
   },
   "outputs": [
    {
     "name": "stdout",
     "output_type": "stream",
     "text": [
      "[[2.20264658e+04 4.85165195e+08 1.06864746e+13]\n",
      " [2.35385267e+17 5.18470553e+21 1.14200739e+26]]\n"
     ]
    }
   ],
   "source": [
    "#exponent (e**x)\n",
    "\n",
    "print (np.exp(arr_x))"
   ]
  },
  {
   "cell_type": "code",
   "execution_count": 69,
   "metadata": {
    "colab": {
     "base_uri": "https://localhost:8080/",
     "height": 51
    },
    "colab_type": "code",
    "executionInfo": {
     "elapsed": 334,
     "status": "ok",
     "timestamp": 1565125950588,
     "user": {
      "displayName": "Sumana R Krishnan",
      "photoUrl": "https://lh3.googleusercontent.com/a-/AAuE7mBpUNjFfbwiWFQAJbCCIKFapg1dDnxsI_ODxut1DYM=s64",
      "userId": "14344299311802225718"
     },
     "user_tz": 420
    },
    "id": "DLNRxWIjc_Qk",
    "outputId": "4ef89183-513c-4c03-eeb9-ffe28d48699e"
   },
   "outputs": [
    {
     "name": "stdout",
     "output_type": "stream",
     "text": [
      "[[  1000   8000  27000]\n",
      " [ 64000 125000 216000]]\n"
     ]
    }
   ],
   "source": [
    "#power\n",
    "\n",
    "print (np.power(arr_x, 3))"
   ]
  },
  {
   "cell_type": "markdown",
   "metadata": {
    "colab_type": "text",
    "id": "zEsN3UWje-Xl"
   },
   "source": [
    "**Statistical methods**\n",
    "\n",
    "More documentation at https://docs.scipy.org/doc/numpy-1.13.0/reference/routines.statistics.html\n"
   ]
  },
  {
   "cell_type": "code",
   "execution_count": 15,
   "metadata": {
    "colab": {
     "base_uri": "https://localhost:8080/",
     "height": 85
    },
    "colab_type": "code",
    "executionInfo": {
     "elapsed": 404,
     "status": "ok",
     "timestamp": 1565126049064,
     "user": {
      "displayName": "Sumana R Krishnan",
      "photoUrl": "https://lh3.googleusercontent.com/a-/AAuE7mBpUNjFfbwiWFQAJbCCIKFapg1dDnxsI_ODxut1DYM=s64",
      "userId": "14344299311802225718"
     },
     "user_tz": 420
    },
    "id": "CKsAHgxieO_o",
    "outputId": "b1c6952a-9952-434b-f544-5e5739c1c5a2"
   },
   "outputs": [
    {
     "name": "stdout",
     "output_type": "stream",
     "text": [
      "[[ 0.62339482 -2.06035201  0.56187958 -0.78396563  0.32954616  0.1680548 ]\n",
      " [-0.61576708  0.95376942 -0.12183849  0.91230398 -0.48097938 -1.26767681]\n",
      " [ 0.65724991 -1.19333832  2.11090547 -0.36444003 -1.04596587  0.08813761]\n",
      " [-0.57697486  0.65854938  1.15817653  0.48896628  1.04948852 -0.8456936 ]]\n"
     ]
    }
   ],
   "source": [
    "#create random 4x6 matrix\n",
    "arr = np.random.randn(4,6)\n",
    "print (arr)\n"
   ]
  },
  {
   "cell_type": "code",
   "execution_count": 16,
   "metadata": {
    "colab": {
     "base_uri": "https://localhost:8080/",
     "height": 34
    },
    "colab_type": "code",
    "executionInfo": {
     "elapsed": 378,
     "status": "ok",
     "timestamp": 1565126059086,
     "user": {
      "displayName": "Sumana R Krishnan",
      "photoUrl": "https://lh3.googleusercontent.com/a-/AAuE7mBpUNjFfbwiWFQAJbCCIKFapg1dDnxsI_ODxut1DYM=s64",
      "userId": "14344299311802225718"
     },
     "user_tz": 420
    },
    "id": "KuF-6iGhhO4d",
    "outputId": "60e23d98-af8c-4663-8db2-e8c995d963ea"
   },
   "outputs": [
    {
     "name": "stdout",
     "output_type": "stream",
     "text": [
      "0.01680959962357444\n"
     ]
    }
   ],
   "source": [
    "#compute the mean for all elements\n",
    "print (arr.mean())"
   ]
  },
  {
   "cell_type": "code",
   "execution_count": 17,
   "metadata": {
    "colab": {
     "base_uri": "https://localhost:8080/",
     "height": 34
    },
    "colab_type": "code",
    "executionInfo": {
     "elapsed": 346,
     "status": "ok",
     "timestamp": 1565126060800,
     "user": {
      "displayName": "Sumana R Krishnan",
      "photoUrl": "https://lh3.googleusercontent.com/a-/AAuE7mBpUNjFfbwiWFQAJbCCIKFapg1dDnxsI_ODxut1DYM=s64",
      "userId": "14344299311802225718"
     },
     "user_tz": 420
    },
    "id": "VNRvCRyyhguY",
    "outputId": "6bfe9879-6ad5-4d98-9311-096eb7e56a00"
   },
   "outputs": [
    {
     "name": "stdout",
     "output_type": "stream",
     "text": [
      "[-0.19357371 -0.10336473  0.04209146  0.32208538]\n"
     ]
    }
   ],
   "source": [
    "#compute the mean by row\n",
    "print (arr.mean(axis = 1))"
   ]
  },
  {
   "cell_type": "code",
   "execution_count": 18,
   "metadata": {
    "colab": {
     "base_uri": "https://localhost:8080/",
     "height": 34
    },
    "colab_type": "code",
    "executionInfo": {
     "elapsed": 449,
     "status": "ok",
     "timestamp": 1565126071750,
     "user": {
      "displayName": "Sumana R Krishnan",
      "photoUrl": "https://lh3.googleusercontent.com/a-/AAuE7mBpUNjFfbwiWFQAJbCCIKFapg1dDnxsI_ODxut1DYM=s64",
      "userId": "14344299311802225718"
     },
     "user_tz": 420
    },
    "id": "pVU3-Uolh8Ky",
    "outputId": "10f2a3c0-f81e-4257-8ddb-e61962e19e8b"
   },
   "outputs": [
    {
     "name": "stdout",
     "output_type": "stream",
     "text": [
      "[ 0.0219757  -0.41034288  0.92728077  0.06321615 -0.03697764 -0.4642945 ]\n"
     ]
    }
   ],
   "source": [
    "#compute mean by column\n",
    "print (arr.mean(axis = 0))"
   ]
  },
  {
   "cell_type": "code",
   "execution_count": 74,
   "metadata": {
    "colab": {
     "base_uri": "https://localhost:8080/",
     "height": 34
    },
    "colab_type": "code",
    "executionInfo": {
     "elapsed": 329,
     "status": "ok",
     "timestamp": 1565126074479,
     "user": {
      "displayName": "Sumana R Krishnan",
      "photoUrl": "https://lh3.googleusercontent.com/a-/AAuE7mBpUNjFfbwiWFQAJbCCIKFapg1dDnxsI_ODxut1DYM=s64",
      "userId": "14344299311802225718"
     },
     "user_tz": 420
    },
    "id": "TGJ6d6M4iKIC",
    "outputId": "89ab54bb-9ab6-4f8e-ff6a-722339b42845"
   },
   "outputs": [
    {
     "name": "stdout",
     "output_type": "stream",
     "text": [
      "-0.331786774069337\n"
     ]
    }
   ],
   "source": [
    "#compute the median for all elements, by row or column can be done the same way as for mean\n",
    "print (np.median(arr))"
   ]
  },
  {
   "cell_type": "code",
   "execution_count": 19,
   "metadata": {
    "colab": {
     "base_uri": "https://localhost:8080/",
     "height": 34
    },
    "colab_type": "code",
    "executionInfo": {
     "elapsed": 305,
     "status": "ok",
     "timestamp": 1565126076362,
     "user": {
      "displayName": "Sumana R Krishnan",
      "photoUrl": "https://lh3.googleusercontent.com/a-/AAuE7mBpUNjFfbwiWFQAJbCCIKFapg1dDnxsI_ODxut1DYM=s64",
      "userId": "14344299311802225718"
     },
     "user_tz": 420
    },
    "id": "D4k8Pc-jiZAs",
    "outputId": "5b1749ad-db5a-4f17-8f50-52896b8805a4"
   },
   "outputs": [
    {
     "name": "stdout",
     "output_type": "stream",
     "text": [
      "0.4034303909657866\n"
     ]
    }
   ],
   "source": [
    "#sum of all the elements, by row or column can be done the same way as for mean\n",
    "print (np.sum(arr))"
   ]
  },
  {
   "cell_type": "markdown",
   "metadata": {
    "colab_type": "text",
    "id": "BKKt5ak8lG6K"
   },
   "source": [
    "**Read, or Write to disc**"
   ]
  },
  {
   "cell_type": "code",
   "execution_count": 22,
   "metadata": {
    "colab": {},
    "colab_type": "code",
    "id": "agddLgxBi7sD"
   },
   "outputs": [],
   "source": [
    "np.savetxt('array.txt', X = arr, delimiter = ',')"
   ]
  },
  {
   "cell_type": "code",
   "execution_count": 23,
   "metadata": {
    "colab": {
     "base_uri": "https://localhost:8080/",
     "height": 153
    },
    "colab_type": "code",
    "executionInfo": {
     "elapsed": 417,
     "status": "ok",
     "timestamp": 1565126094212,
     "user": {
      "displayName": "Sumana R Krishnan",
      "photoUrl": "https://lh3.googleusercontent.com/a-/AAuE7mBpUNjFfbwiWFQAJbCCIKFapg1dDnxsI_ODxut1DYM=s64",
      "userId": "14344299311802225718"
     },
     "user_tz": 420
    },
    "id": "dOdDNtSjlhwz",
    "outputId": "9c93e09c-cc40-4717-d2af-37a89880a929"
   },
   "outputs": [
    {
     "data": {
      "text/plain": [
       "array([[ 0.62339482, -2.06035201,  0.56187958, -0.78396563,  0.32954616,\n",
       "         0.1680548 ],\n",
       "       [-0.61576708,  0.95376942, -0.12183849,  0.91230398, -0.48097938,\n",
       "        -1.26767681],\n",
       "       [ 0.65724991, -1.19333832,  2.11090547, -0.36444003, -1.04596587,\n",
       "         0.08813761],\n",
       "       [-0.57697486,  0.65854938,  1.15817653,  0.48896628,  1.04948852,\n",
       "        -0.8456936 ]])"
      ]
     },
     "execution_count": 23,
     "metadata": {},
     "output_type": "execute_result"
    }
   ],
   "source": [
    "np.loadtxt('array.txt', delimiter = ',')"
   ]
  },
  {
   "cell_type": "code",
   "execution_count": null,
   "metadata": {},
   "outputs": [],
   "source": []
  }
 ],
 "metadata": {
  "colab": {
   "collapsed_sections": [],
   "name": "lesson1_numpy.ipynb",
   "provenance": [],
   "version": "0.3.2"
  },
  "kernelspec": {
   "display_name": "Python 3",
   "language": "python",
   "name": "python3"
  },
  "language_info": {
   "codemirror_mode": {
    "name": "ipython",
    "version": 3
   },
   "file_extension": ".py",
   "mimetype": "text/x-python",
   "name": "python",
   "nbconvert_exporter": "python",
   "pygments_lexer": "ipython3",
   "version": "3.6.7"
  }
 },
 "nbformat": 4,
 "nbformat_minor": 1
}
